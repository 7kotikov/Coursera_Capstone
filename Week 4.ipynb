{
 "cells": [
  {
   "cell_type": "markdown",
   "metadata": {},
   "source": [
    "# MyCiTi Bus Services in Cape Town"
   ]
  },
  {
   "cell_type": "markdown",
   "metadata": {},
   "source": [
    "#### Capstone Project for Applied Data Science by IBM/Coursera"
   ]
  },
  {
   "cell_type": "markdown",
   "metadata": {},
   "source": [
    "## Background & Problem"
   ]
  },
  {
   "cell_type": "markdown",
   "metadata": {},
   "source": [
    "Cape Town, one of the most beautiful cities in the world, also happens to be one of the most congested when it comes to road traffic. <span style='color:green'>[1]</span>\n",
    "\n",
    "According to the INRIX 2018 Global Traffic Scorecard, people in Cape Town lose 162 hours per year to congestion. <span style='color:green'>[2]</span>\n",
    "\n",
    "In recent years this issue has become even more accute due to a rapid population increase and a lack of investment into rail infrastucture.\n",
    "\n",
    "Given that 80% of daily congestion in Cape Town consists of private vehicles <span style='color:green'>[1]</span>, one solution would be to improve the shared public transport, which is currently represented by:\n",
    " - Metrorail, a rail service that nowadays is considered by many too delapidated and unsafe\n",
    " - Minibus taxis, informally operated network of shared minibuses, with no set map or timetable <span style='color:green'>[3]</span>\n",
    " - Golden Arrow, a privately-owned point-to-point bus service operating at morning and evening peak hours; the City of Cape Town is not able to control the extent and quality of this service\n",
    " - MyCiTi, a bus rapid transit system provided by the City of Cape Town, operating on a regular time table throughout the day using dedicated road infrastructure and technology\n",
    "\n",
    "While the need of investment into rail infrastructure is widely recognised, it appears that the City of Cape Town sees MyCiTi as the most viable response to public transportation needs. The MyCiTi network was launched in May 2010 and is still growing.\n",
    "\n",
    "In this analysis we would like to focus on the MyCiTi network, first mapping and visualising its current extent and then suggesting ways for future growth, taking into account the following two facts <span style='color:green'>[4]</span>:\n",
    "1. 95% of public transport users are in the low to low-middle income brackets\n",
    "2. 95% of people in high-income communities own a car\n",
    "\n",
    "So the real question that we are aiming to answer is: how should we expand the MyCiTi network so that we encourage private car users to switch over to public buses, and what areas currently served by Minibus taxis and Golden Arrow buses would benefit from MyCiTi?\n",
    "\n",
    "We are confident that the Transport and Urban Development Authority of Cape Town has a team of data scientists, its own private data sources and a strategy for development, but we will still undertake this exercise from an outsider's perspective, using publicly available data.\n",
    "This analysis may be of interest to those working at the Transport and Urban Development Authority of Cape Town, or those with a general interest in public transport.\n"
   ]
  },
  {
   "cell_type": "markdown",
   "metadata": {},
   "source": [
    "## Data"
   ]
  },
  {
   "cell_type": "markdown",
   "metadata": {},
   "source": [
    "From the administrative perspective the City of Cape Town is split into more than 700 communities called suburbs.\n",
    "\n",
    "To understand the existing transportation needs we would need to determine the locations of MyCiTi bus stops and also estimate how wealthy each of the suburbs is and how many residents it has.\n",
    "\n",
    "To estimate suburb wealth we will use the breakdown of suburb properties by value, as provided by the City of Cape Town Open Data Portal <span style='color:green'>[5]</span>.\n",
    "\n",
    "We could not find the population statistics per suburb (latest census data is from 2011 and is not split by suburb), hence we are planning to use the total number of properties in a suburb as an approximation."
   ]
  },
  {
   "cell_type": "markdown",
   "metadata": {},
   "source": [
    "Therefore we will need the following datasets for our analysis:\n",
    "1. Coordinates of Cape Town suburbs, to be obtained from Open Data Portal <span style='color:green'>[5]</span>\n",
    "2. Number of properties by suburb and value band, to be obtained from Open Data Portal <span style='color:green'>[5]</span>\n",
    "3. Coordinates of MyCiTi bus stops, to be obtained from Foursquare"
   ]
  },
  {
   "cell_type": "markdown",
   "metadata": {},
   "source": [
    "## References"
   ]
  },
  {
   "cell_type": "markdown",
   "metadata": {},
   "source": [
    "[1] https://www.tct.gov.za/en/transport/transport-network  \n",
    "[2] https://www.news24.com/SouthAfrica/News/multi-pronged-approach-needed-for-traffic-congestion-city-of-cape-town-20190227  \n",
    "[3] https://www.whereismytransport.com/case-studies/integrating-the-informal-mapping-cape-towns-minibus-taxi-network  \n",
    "[4] https://tdacontenthubstore.blob.core.windows.net/resources/756c7e76-1ab5-45a9-9e97-ecee4e150e79.pdf  \n",
    "[5] https://odp-cctegis.opendata.arcgis.com"
   ]
  }
 ],
 "metadata": {
  "kernelspec": {
   "display_name": "Python",
   "language": "python",
   "name": "conda-env-python-py"
  },
  "language_info": {
   "codemirror_mode": {
    "name": "ipython",
    "version": 3
   },
   "file_extension": ".py",
   "mimetype": "text/x-python",
   "name": "python",
   "nbconvert_exporter": "python",
   "pygments_lexer": "ipython3",
   "version": "3.6.7"
  }
 },
 "nbformat": 4,
 "nbformat_minor": 4
}
