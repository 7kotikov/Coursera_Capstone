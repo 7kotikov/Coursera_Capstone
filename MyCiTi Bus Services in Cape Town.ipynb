{
 "cells": [
  {
   "cell_type": "markdown",
   "metadata": {},
   "source": [
    "# MyCiTi Bus Services in Cape Town"
   ]
  },
  {
   "cell_type": "markdown",
   "metadata": {},
   "source": [
    "#### Capstone Project for Applied Data Science by IBM/Coursera"
   ]
  },
  {
   "cell_type": "markdown",
   "metadata": {},
   "source": [
    "## Background & Problem"
   ]
  },
  {
   "cell_type": "markdown",
   "metadata": {},
   "source": [
    "Cape Town, one of the most beautiful cities in the world, also happens to be one of the most congested when it comes to road traffic. <span style='color:green'>[1]</span>\n",
    "\n",
    "According to the INRIX 2018 Global Traffic Scorecard, people in Cape Town lose 162 hours per year to congestion. <span style='color:green'>[2]</span>\n",
    "\n",
    "In recent years this issue has become even more acute due to a rapid population increase and a lack of investment into rail infrastructure.\n",
    "\n",
    "Given that 80% of daily congestion in Cape Town consists of private vehicles <span style='color:green'>[1]</span>, one solution would be to improve the shared public transport, which is currently represented by:\n",
    " - Metrorail, a rail service that nowadays is considered by many too dilapidated and unsafe\n",
    " - Minibus taxis, informally operated network of shared minibuses, with no set map or timetable <span style='color:green'>[3]</span>\n",
    " - Golden Arrow, a privately-owned point-to-point bus service operating at morning and evening peak hours; the City of Cape Town is not able to control the extent and quality of this service\n",
    " - MyCiTi, a bus rapid transit system provided by the City of Cape Town, operating on a regular time table throughout the day using dedicated road infrastructure and technology\n",
    "\n",
    "While the need of investment into rail infrastructure is widely recognised, it appears that the City of Cape Town sees MyCiTi as the most viable response to public transportation needs. The MyCiTi network was launched in May 2010 and is still growing.\n",
    "\n",
    "In this analysis we would like to focus on the MyCiTi network, first mapping and visualising its current extent and then suggesting ways for future growth, taking into account the following two facts <span style='color:green'>[4]</span>:\n",
    "1. 95% of public transport users are in the low to low-middle income brackets\n",
    "2. 95% of people in high-income communities own a car\n",
    "\n",
    "So the real question that we are aiming to answer is: how should we expand the MyCiTi network so that we encourage private car users to switch over to public buses, and what areas currently served by Minibus taxis and Golden Arrow buses would benefit from MyCiTi?\n",
    "\n",
    "We are confident that the Transport and Urban Development Authority of Cape Town has a team of data scientists, its own private data sources and a strategy for development, but we will still undertake this exercise from an outsider's perspective, using publicly available data.\n",
    "This analysis may be of interest to those working at the Transport and Urban Development Authority of Cape Town, or those with a general interest in public transport.\n"
   ]
  },
  {
   "cell_type": "markdown",
   "metadata": {},
   "source": [
    "## Data"
   ]
  },
  {
   "cell_type": "markdown",
   "metadata": {},
   "source": [
    "From the administrative perspective the City of Cape Town is split into more than 700 communities called suburbs.\n",
    "\n",
    "To understand the existing transportation needs we would need to determine the locations of MyCiTi bus stops and also estimate how wealthy each of the suburbs is and how many residents it has.\n",
    "\n",
    "To estimate suburb wealth we will use the breakdown of suburb properties by value, as provided by the City of Cape Town Open Data Portal <span style='color:green'>[5]</span>.\n",
    "\n",
    "We could not find the population statistics per suburb (latest census data is from 2011 and is not split by suburb), hence we are planning to use the total number of properties in a suburb as an approximation."
   ]
  },
  {
   "cell_type": "markdown",
   "metadata": {},
   "source": [
    "Therefore we will need the following datasets for our analysis:\n",
    "1. Coordinates of Cape Town suburbs, to be obtained from Open Data Portal <span style='color:green'>[5]</span>\n",
    "2. Number of properties by suburb and value band, to be obtained from Open Data Portal <span style='color:green'>[5]</span>\n",
    "3. Coordinates of MyCiTi bus stops, to be obtained from Foursquare"
   ]
  },
  {
   "cell_type": "markdown",
   "metadata": {},
   "source": [
    "## Methodology"
   ]
  },
  {
   "cell_type": "markdown",
   "metadata": {},
   "source": [
    "For our analysis we are planning to use the following approach to source and pre-process our data:\n",
    "1. First, we will visualise the map of Cape Town's suburbs to better understand the geography we are dealing with.\n",
    "2. Then we will obtain, cleanse and visualise the geographical locations of all MyCiTi bus stops using the Foursquare service.\n",
    "3. Finally, we will obtain and cleanse the property valuations from the Open Data Portal of Cape Town."
   ]
  },
  {
   "cell_type": "markdown",
   "metadata": {},
   "source": [
    "Once we have a clean dataset, we will hopefully be able to run K-means clustering to classify Cape Town's suburbs by wealth, see which of them are more populous than others, and understand the current coverage of the MyCiTi service."
   ]
  },
  {
   "cell_type": "markdown",
   "metadata": {},
   "source": [
    "### Suburbs (Open Data Portal)"
   ]
  },
  {
   "cell_type": "markdown",
   "metadata": {},
   "source": [
    "To begin with, let's determine the geographical coordinates of Cape Town:"
   ]
  },
  {
   "cell_type": "code",
   "execution_count": 2,
   "metadata": {},
   "outputs": [
    {
     "name": "stdout",
     "output_type": "stream",
     "text": [
      "Collecting geopy\n",
      "\u001b[?25l  Downloading https://files.pythonhosted.org/packages/53/fc/3d1b47e8e82ea12c25203929efb1b964918a77067a874b2c7631e2ec35ec/geopy-1.21.0-py2.py3-none-any.whl (104kB)\n",
      "\u001b[K     |████████████████████████████████| 112kB 5.8MB/s eta 0:00:01\n",
      "\u001b[?25hCollecting geographiclib<2,>=1.49 (from geopy)\n",
      "  Downloading https://files.pythonhosted.org/packages/8b/62/26ec95a98ba64299163199e95ad1b0e34ad3f4e176e221c40245f211e425/geographiclib-1.50-py3-none-any.whl\n",
      "Installing collected packages: geographiclib, geopy\n",
      "Successfully installed geographiclib-1.50 geopy-1.21.0\n"
     ]
    }
   ],
   "source": [
    "!pip install geopy\n",
    "from geopy.geocoders import Nominatim"
   ]
  },
  {
   "cell_type": "code",
   "execution_count": 3,
   "metadata": {},
   "outputs": [
    {
     "name": "stdout",
     "output_type": "stream",
     "text": [
      "The geographical coordinates of Cape Town, South Africa are -33.928992, 18.417396.\n"
     ]
    }
   ],
   "source": [
    "address = 'Cape Town, South Africa'\n",
    "geolocator = Nominatim(user_agent=\"coursera_capstone_test\")\n",
    "location = geolocator.geocode(address)\n",
    "lat_ct = location.latitude\n",
    "lon_ct = location.longitude\n",
    "print('The geographical coordinates of ' + address + ' are {}, {}.'.format(lat_ct, lon_ct))"
   ]
  },
  {
   "cell_type": "markdown",
   "metadata": {},
   "source": [
    "Now let's download the list and boundaries of all the suburbs of Cape Town from the Open Data Portal:"
   ]
  },
  {
   "cell_type": "code",
   "execution_count": 4,
   "metadata": {},
   "outputs": [],
   "source": [
    "!wget --quiet https://opendata.arcgis.com/datasets/8ebcd15badfe40a4ab759682aacf8439_75.geojson -O Official_Suburbs.geojson"
   ]
  },
  {
   "cell_type": "code",
   "execution_count": 5,
   "metadata": {},
   "outputs": [],
   "source": [
    "import json"
   ]
  },
  {
   "cell_type": "code",
   "execution_count": 6,
   "metadata": {},
   "outputs": [],
   "source": [
    "with open('Official_Suburbs.geojson', 'r') as geo_file_suburbs:\n",
    "    geo_data_suburbs = json.load(geo_file_suburbs)"
   ]
  },
  {
   "cell_type": "markdown",
   "metadata": {},
   "source": [
    "Let's parse the GeoJSON file, recording the suburb ID, suburb name and the boundaries. We will also calculate the centroid for each suburb.  \n",
    "It is worth noting that some suburbs are represented as several non-overlapping polygons, and some have 'holes'."
   ]
  },
  {
   "cell_type": "code",
   "execution_count": 7,
   "metadata": {},
   "outputs": [
    {
     "name": "stdout",
     "output_type": "stream",
     "text": [
      "Collecting shapely\n",
      "\u001b[?25l  Downloading https://files.pythonhosted.org/packages/20/fa/c96d3461fda99ed8e82ff0b219ac2c8384694b4e640a611a1a8390ecd415/Shapely-1.7.0-cp36-cp36m-manylinux1_x86_64.whl (1.8MB)\n",
      "\u001b[K     |████████████████████████████████| 1.8MB 19.2MB/s eta 0:00:01\n",
      "\u001b[?25hInstalling collected packages: shapely\n",
      "Successfully installed shapely-1.7.0\n"
     ]
    }
   ],
   "source": [
    "!pip install shapely\n",
    "from shapely.geometry import shape\n",
    "import numpy as np"
   ]
  },
  {
   "cell_type": "code",
   "execution_count": 8,
   "metadata": {},
   "outputs": [],
   "source": [
    "suburbs = []\n",
    "for f in geo_data_suburbs['features']:\n",
    "    if f['geometry']['type'] == 'MultiPolygon':\n",
    "        shapes = [s for s in shape(f['geometry'])]\n",
    "        centroids = [[s.centroid.y, s.centroid.x] for s in shape(f['geometry'])]\n",
    "    else:\n",
    "        shapes = [shape(f['geometry'])]\n",
    "        centroids = [[shape(f['geometry']).centroid.y, shape(f['geometry']).centroid.x]]\n",
    "    suburbs.append([f['properties']['OBJECTID'], f['properties']['OFC_SBRB_NAME'], centroids, shapes])"
   ]
  },
  {
   "cell_type": "markdown",
   "metadata": {},
   "source": [
    "Let's now display the suburbs map, highlighting the centroid point of each suburb in red, and the centre of Cape Town (as returned by Nominatim) in orange."
   ]
  },
  {
   "cell_type": "code",
   "execution_count": 9,
   "metadata": {},
   "outputs": [],
   "source": [
    "import folium"
   ]
  },
  {
   "cell_type": "code",
   "execution_count": 10,
   "metadata": {},
   "outputs": [],
   "source": [
    "m = folium.Map(location=[lat_ct, lon_ct], zoom_start=10)\n",
    "folium.TileLayer('cartodbpositron').add_to(m)\n",
    "folium.GeoJson('Official_Suburbs.geojson', name='geojson').add_to(m)\n",
    "for s in suburbs:\n",
    "    for c in s[2]:\n",
    "         folium.Circle(c, radius=5, fill=True, fill_opacity=1, color='red').add_to(m)\n",
    "folium.Circle([lat_ct, lon_ct], radius=500, fill=True, fill_opacity=1, color='orange').add_to(m)\n",
    "m.save('Map 1 - Official Suburbs.html')"
   ]
  },
  {
   "cell_type": "markdown",
   "metadata": {},
   "source": [
    "### MyCiTi Bus Stops (Foursquare)"
   ]
  },
  {
   "cell_type": "markdown",
   "metadata": {},
   "source": [
    "Now that we better understand what geography we are dealing with, let's fetch the MyCiTi bus stop locations from Foursquare."
   ]
  },
  {
   "cell_type": "markdown",
   "metadata": {},
   "source": [
    "It would have been easy to run one single Foursquare query, placing the centre of the search in the geographical point determined by Nominatim and supplying a sufficiently big radius to cover all of Cape Town. Our practical experiment shows, however, that such an approach returns only a fraction of the data available in Foursquare, as there is a limit as to how many venues can be returned by a single query (only up to 50 venues returned). We will therefore have to employ a different approach:\n",
    "1. Determine the minimum and maximum geographical coordinates of Cape Town's suburbs in order to determine the city's diameter.\n",
    "2. Re-position the city centre accordingly.\n",
    "3. Divide the resulting circle into smaller areas that can be searched by Foursquare without a data loss."
   ]
  },
  {
   "cell_type": "markdown",
   "metadata": {},
   "source": [
    "Let's scan the suburbs to determine the most southwestern and northeastern points:"
   ]
  },
  {
   "cell_type": "code",
   "execution_count": 11,
   "metadata": {},
   "outputs": [
    {
     "name": "stdout",
     "output_type": "stream",
     "text": [
      "Min coords: -34.35904391636636 18.307449125750356\n",
      "Max coords: -33.471273996519386 19.004667336304436\n"
     ]
    }
   ],
   "source": [
    "lat_min, lat_max, lon_min, lon_max = lat_ct, lat_ct, lon_ct, lon_ct\n",
    "for suburb in suburbs:\n",
    "    for poly in suburb[3]:\n",
    "        for coords in poly.exterior.coords:\n",
    "            if coords[1] > lat_max:\n",
    "                lat_max = coords[1]\n",
    "            if coords[1] < lat_min:\n",
    "                lat_min = coords[1]\n",
    "            if coords[0] > lon_max:\n",
    "                lon_max = coords[0]\n",
    "            if coords[0] < lon_min:\n",
    "                lon_min = coords[0]\n",
    "print('Min coords:', lat_min, lon_min)\n",
    "print('Max coords:', lat_max, lon_max)"
   ]
  },
  {
   "cell_type": "markdown",
   "metadata": {},
   "source": [
    "The distance between the two points is the diameter defining our Foursquare search, so let's define a function and calculate the distance:"
   ]
  },
  {
   "cell_type": "code",
   "execution_count": 12,
   "metadata": {},
   "outputs": [],
   "source": [
    "import math"
   ]
  },
  {
   "cell_type": "code",
   "execution_count": 13,
   "metadata": {},
   "outputs": [],
   "source": [
    "# returns the distance between two coordinates, in metres\n",
    "def distance(lat1, lon1, lat2, lon2):\n",
    "    p = math.pi / 180\n",
    "    a = 0.5 - math.cos((lat2 - lat1) * p)/2 + math.cos(lat1 * p) * math.cos(lat2 * p) * (1 - math.cos((lon2 - lon1) * p)) / 2\n",
    "    return 2 * 6371000 * math.asin(math.sqrt(a)) # 2 * R of Earth in metres * asin"
   ]
  },
  {
   "cell_type": "code",
   "execution_count": 14,
   "metadata": {},
   "outputs": [
    {
     "name": "stdout",
     "output_type": "stream",
     "text": [
      "Distance between the min and max points in metres: 117829.51250752936\n"
     ]
    }
   ],
   "source": [
    "d = distance(lat_min, lon_min, lat_max, lon_max)\n",
    "print('Distance between the min and max points in metres: {}'.format(d))"
   ]
  },
  {
   "cell_type": "markdown",
   "metadata": {},
   "source": [
    "At 118 kilometres in diameter, Cape Town is a big city\\!  \n",
    "This will be our new city centre for the Foursquare search:"
   ]
  },
  {
   "cell_type": "code",
   "execution_count": 15,
   "metadata": {},
   "outputs": [
    {
     "name": "stdout",
     "output_type": "stream",
     "text": [
      "The new geographical coordinates of Cape Town, South Africa are -33.91515895644287, 18.656058231027394.\n"
     ]
    }
   ],
   "source": [
    "lat_centre = lat_min + (lat_max - lat_min) / 2\n",
    "lon_centre = lon_min + (lon_max - lon_min) / 2\n",
    "print('The new geographical coordinates of ' + address + ' are {}, {}.'.format(lat_centre, lon_centre))"
   ]
  },
  {
   "cell_type": "markdown",
   "metadata": {},
   "source": [
    "Let's now define the functions to convert geographical coordinates into the UTM system (and back), and methodically break down the whole of Cape Town into smaller search zones to be used for the Foursquare search. In order to do that, we will create a honeycomb-like pattern of circles, so we need to define the coordinates of the centre of each of the honeycomb cells. Initially we set the diameter of each cell to be one-tenth of the diameter of Cape Town, however later we had to decrease the size to 1/30th due to Foursquare limitations."
   ]
  },
  {
   "cell_type": "code",
   "execution_count": 16,
   "metadata": {},
   "outputs": [],
   "source": [
    "import pyproj"
   ]
  },
  {
   "cell_type": "code",
   "execution_count": 17,
   "metadata": {},
   "outputs": [],
   "source": [
    "def distance_utm(x1, y1, x2, y2):\n",
    "    dx = x2 - x1\n",
    "    dy = y2 - y1\n",
    "    return math.sqrt(dx*dx + dy*dy)"
   ]
  },
  {
   "cell_type": "code",
   "execution_count": 18,
   "metadata": {},
   "outputs": [],
   "source": [
    "def latlon_2_utm(lat, lon):\n",
    "    proj_latlong = pyproj.Proj(proj='latlong', datum='WGS84')\n",
    "    proj_utm = pyproj.Proj(proj='utm', zone=34, datum='WGS84')  # Cape Town is in UTM zone 34\n",
    "    utm = pyproj.transform(proj_latlong, proj_utm, lon, lat)\n",
    "    return utm[0], utm[1]"
   ]
  },
  {
   "cell_type": "code",
   "execution_count": 19,
   "metadata": {},
   "outputs": [],
   "source": [
    "def utm_2_latlon(x, y):\n",
    "    proj_latlong = pyproj.Proj(proj='latlong', datum='WGS84')\n",
    "    proj_utm = pyproj.Proj(proj='utm', zone=34, datum='WGS84')  # Cape Town is in UTM zone 34\n",
    "    lonlat = pyproj.transform(proj_utm, proj_latlong, x, y)\n",
    "    return lonlat[1], lonlat[0]"
   ]
  },
  {
   "cell_type": "code",
   "execution_count": 20,
   "metadata": {},
   "outputs": [],
   "source": [
    "x_centre, y_centre = latlon_2_utm(lat_centre, lon_centre)\n",
    "k = math.sqrt(3) / 2\n",
    "m = 30\n",
    "dx = d/m\n",
    "dy = k * dx\n",
    "coords = []\n",
    "for i in range(round(d/dy) + 1):\n",
    "    y = y_centre - d/2 + i * dy\n",
    "    x_offset = 0\n",
    "    if i % 2 == 0:\n",
    "        x_offset = dx / 2\n",
    "    for j in range(m + 1):\n",
    "        x = x_centre - d/2 + j * dx + x_offset\n",
    "        h = distance_utm(x_centre, y_centre, x, y)\n",
    "        if (h <= d/2 + dx/2):\n",
    "            coords.append(utm_2_latlon(x, y))"
   ]
  },
  {
   "cell_type": "markdown",
   "metadata": {},
   "source": [
    "Let's now visualise our search zones.  \n",
    "The re-positioned city centre as well as the new city boundaries are shown in magenta. Orange still indicates the original centre of Cape Town, as returned by Nominatim."
   ]
  },
  {
   "cell_type": "code",
   "execution_count": 21,
   "metadata": {},
   "outputs": [],
   "source": [
    "m = folium.Map(location=[lat_centre, lon_centre], zoom_start=9)\n",
    "folium.TileLayer('cartodbpositron').add_to(m)\n",
    "folium.Circle([lat_centre, lon_centre], radius=d/2, fill=False, color='magenta').add_to(m)\n",
    "for c in coords:\n",
    "    folium.Circle([c[0], c[1]], radius=2270, color='green', fill=False).add_to(m)\n",
    "folium.Circle([lat_ct, lon_ct], radius=500, fill=True, fill_opacity=1, color='orange').add_to(m)\n",
    "folium.Circle([lat_centre, lon_centre], radius=500, fill=True, fill_opacity=1, color='magenta').add_to(m)\n",
    "m.save('Map 2 - Foursquare Search Zones.html')"
   ]
  },
  {
   "cell_type": "markdown",
   "metadata": {},
   "source": [
    "Note that while the distance between the search zone centres is 1/30th of the city diameter (i.e. approximately 4 kilometres), we have increased the diameter of search zones to 4.5 kilometres to ensure there is some overlap so that we do not miss a single bus stop in our search."
   ]
  },
  {
   "cell_type": "markdown",
   "metadata": {},
   "source": [
    "We could have also eliminated those search zones that are entirely located in the ocean, as we do not expect to find any bus stops there. But we have not."
   ]
  },
  {
   "cell_type": "markdown",
   "metadata": {},
   "source": [
    "Now, how does one fetch bus stops from Foursquare?"
   ]
  },
  {
   "cell_type": "markdown",
   "metadata": {},
   "source": [
    "Foursquare classifies its venues by category, and there is a service that returns the complete tree structure of the categories. We will attempt to pull the entire category tree, and then see which categories contain the word 'bus'."
   ]
  },
  {
   "cell_type": "code",
   "execution_count": 22,
   "metadata": {},
   "outputs": [],
   "source": [
    "import requests\n",
    "import pandas as pd"
   ]
  },
  {
   "cell_type": "code",
   "execution_count": 23,
   "metadata": {},
   "outputs": [],
   "source": [
    "CLIENT_ID = ''  # use your ID\n",
    "CLIENT_SECRET = ''  # use your secret\n",
    "VERSION = '20180605'"
   ]
  },
  {
   "cell_type": "code",
   "execution_count": 24,
   "metadata": {},
   "outputs": [],
   "source": [
    "url = 'https://api.foursquare.com/v2/venues/categories?client_id={}&client_secret={}&v={}'.format(\n",
    "    CLIENT_ID,\n",
    "    CLIENT_SECRET,\n",
    "    VERSION)"
   ]
  },
  {
   "cell_type": "code",
   "execution_count": 25,
   "metadata": {},
   "outputs": [],
   "source": [
    "results = requests.get(url).json()"
   ]
  },
  {
   "cell_type": "code",
   "execution_count": 26,
   "metadata": {},
   "outputs": [],
   "source": [
    "def fetch_categories(categories, list_categories, level=0):\n",
    "    for i in categories:\n",
    "        list_categories.append([level, i['name'], i['id']])\n",
    "        if i['categories'] is not None:\n",
    "            fetch_categories(i['categories'], list_categories, level + 1)\n",
    "    return"
   ]
  },
  {
   "cell_type": "code",
   "execution_count": 27,
   "metadata": {},
   "outputs": [
    {
     "data": {
      "text/html": [
       "<div>\n",
       "<style scoped>\n",
       "    .dataframe tbody tr th:only-of-type {\n",
       "        vertical-align: middle;\n",
       "    }\n",
       "\n",
       "    .dataframe tbody tr th {\n",
       "        vertical-align: top;\n",
       "    }\n",
       "\n",
       "    .dataframe thead th {\n",
       "        text-align: right;\n",
       "    }\n",
       "</style>\n",
       "<table border=\"1\" class=\"dataframe\">\n",
       "  <thead>\n",
       "    <tr style=\"text-align: right;\">\n",
       "      <th></th>\n",
       "      <th>level</th>\n",
       "      <th>name</th>\n",
       "      <th>id</th>\n",
       "    </tr>\n",
       "  </thead>\n",
       "  <tbody>\n",
       "    <tr>\n",
       "      <th>0</th>\n",
       "      <td>0</td>\n",
       "      <td>Arts &amp; Entertainment</td>\n",
       "      <td>4d4b7104d754a06370d81259</td>\n",
       "    </tr>\n",
       "    <tr>\n",
       "      <th>1</th>\n",
       "      <td>1</td>\n",
       "      <td>Amphitheater</td>\n",
       "      <td>56aa371be4b08b9a8d5734db</td>\n",
       "    </tr>\n",
       "    <tr>\n",
       "      <th>2</th>\n",
       "      <td>1</td>\n",
       "      <td>Aquarium</td>\n",
       "      <td>4fceea171983d5d06c3e9823</td>\n",
       "    </tr>\n",
       "    <tr>\n",
       "      <th>3</th>\n",
       "      <td>1</td>\n",
       "      <td>Arcade</td>\n",
       "      <td>4bf58dd8d48988d1e1931735</td>\n",
       "    </tr>\n",
       "    <tr>\n",
       "      <th>4</th>\n",
       "      <td>1</td>\n",
       "      <td>Art Gallery</td>\n",
       "      <td>4bf58dd8d48988d1e2931735</td>\n",
       "    </tr>\n",
       "  </tbody>\n",
       "</table>\n",
       "</div>"
      ],
      "text/plain": [
       "   level                  name                        id\n",
       "0      0  Arts & Entertainment  4d4b7104d754a06370d81259\n",
       "1      1          Amphitheater  56aa371be4b08b9a8d5734db\n",
       "2      1              Aquarium  4fceea171983d5d06c3e9823\n",
       "3      1                Arcade  4bf58dd8d48988d1e1931735\n",
       "4      1           Art Gallery  4bf58dd8d48988d1e2931735"
      ]
     },
     "execution_count": 27,
     "metadata": {},
     "output_type": "execute_result"
    }
   ],
   "source": [
    "list_categories = []\n",
    "fetch_categories(results['response']['categories'],  list_categories)\n",
    "df_categories = pd.DataFrame(list_categories, columns=['level', 'name', 'id'])\n",
    "df_categories.head()"
   ]
  },
  {
   "cell_type": "code",
   "execution_count": 28,
   "metadata": {},
   "outputs": [],
   "source": [
    "df_categories.to_csv('df_all_foursquare_categories.csv', index=False)"
   ]
  },
  {
   "cell_type": "code",
   "execution_count": 29,
   "metadata": {},
   "outputs": [
    {
     "data": {
      "text/html": [
       "<div>\n",
       "<style scoped>\n",
       "    .dataframe tbody tr th:only-of-type {\n",
       "        vertical-align: middle;\n",
       "    }\n",
       "\n",
       "    .dataframe tbody tr th {\n",
       "        vertical-align: top;\n",
       "    }\n",
       "\n",
       "    .dataframe thead th {\n",
       "        text-align: right;\n",
       "    }\n",
       "</style>\n",
       "<table border=\"1\" class=\"dataframe\">\n",
       "  <thead>\n",
       "    <tr style=\"text-align: right;\">\n",
       "      <th></th>\n",
       "      <th>level</th>\n",
       "      <th>name</th>\n",
       "      <th>id</th>\n",
       "    </tr>\n",
       "  </thead>\n",
       "  <tbody>\n",
       "    <tr>\n",
       "      <th>605</th>\n",
       "      <td>1</td>\n",
       "      <td>Business Center</td>\n",
       "      <td>56aa371be4b08b9a8d573517</td>\n",
       "    </tr>\n",
       "    <tr>\n",
       "      <th>733</th>\n",
       "      <td>1</td>\n",
       "      <td>Business Service</td>\n",
       "      <td>5453de49498eade8af355881</td>\n",
       "    </tr>\n",
       "    <tr>\n",
       "      <th>902</th>\n",
       "      <td>1</td>\n",
       "      <td>Bus Station</td>\n",
       "      <td>4bf58dd8d48988d1fe931735</td>\n",
       "    </tr>\n",
       "    <tr>\n",
       "      <th>903</th>\n",
       "      <td>2</td>\n",
       "      <td>Bus Line</td>\n",
       "      <td>4bf58dd8d48988d12b951735</td>\n",
       "    </tr>\n",
       "    <tr>\n",
       "      <th>904</th>\n",
       "      <td>1</td>\n",
       "      <td>Bus Stop</td>\n",
       "      <td>52f2ab2ebcbc57f1066b8b4f</td>\n",
       "    </tr>\n",
       "  </tbody>\n",
       "</table>\n",
       "</div>"
      ],
      "text/plain": [
       "     level              name                        id\n",
       "605      1   Business Center  56aa371be4b08b9a8d573517\n",
       "733      1  Business Service  5453de49498eade8af355881\n",
       "902      1       Bus Station  4bf58dd8d48988d1fe931735\n",
       "903      2          Bus Line  4bf58dd8d48988d12b951735\n",
       "904      1          Bus Stop  52f2ab2ebcbc57f1066b8b4f"
      ]
     },
     "execution_count": 29,
     "metadata": {},
     "output_type": "execute_result"
    }
   ],
   "source": [
    "df_categories[df_categories['name'].str.contains('bus', case=False)]"
   ]
  },
  {
   "cell_type": "markdown",
   "metadata": {},
   "source": [
    "We are not interested in Business Centres or Business Services, however it is not clear which of the 3 bus categories we should use, therefore we will pull all 3 of them.\n",
    " - Bus Station (4bf58dd8d48988d1fe931735)  \n",
    " - Bus Line (4bf58dd8d48988d12b951735)  \n",
    " - Bus Stop (52f2ab2ebcbc57f1066b8b4f)"
   ]
  },
  {
   "cell_type": "code",
   "execution_count": 30,
   "metadata": {},
   "outputs": [],
   "source": [
    "intent = 'browse'\n",
    "radius = 2270\n",
    "categories = '4bf58dd8d48988d1fe931735,4bf58dd8d48988d12b951735,52f2ab2ebcbc57f1066b8b4f'\n",
    "limit = 200  # seems like the maximum returned is 50"
   ]
  },
  {
   "cell_type": "code",
   "execution_count": 31,
   "metadata": {},
   "outputs": [],
   "source": [
    "fs_bus_stops = {}"
   ]
  },
  {
   "cell_type": "code",
   "execution_count": 32,
   "metadata": {},
   "outputs": [],
   "source": [
    "for c in coords:\n",
    "    url = 'https://api.foursquare.com/v2/venues/search?client_id={}&client_secret={}&v={}&intent={}&ll={},{}&radius={}&categoryId={}&limit={}'.format(\n",
    "        CLIENT_ID, CLIENT_SECRET, VERSION, intent, c[0], c[1], radius, categories, limit)\n",
    "    results = requests.get(url).json()\n",
    "    if len(results['response']['venues']) >= 50:\n",
    "        print('Please decrease the honeycomb cell size!')\n",
    "    for venue in results['response']['venues']:\n",
    "        bus_stop = (venue['id'], venue['name'], venue['location']['lat'], venue['location']['lng'], venue['categories'][0]['name'])\n",
    "        fs_bus_stops[venue['id']] = bus_stop"
   ]
  },
  {
   "cell_type": "code",
   "execution_count": 33,
   "metadata": {},
   "outputs": [
    {
     "data": {
      "text/plain": [
       "165"
      ]
     },
     "execution_count": 33,
     "metadata": {},
     "output_type": "execute_result"
    }
   ],
   "source": [
    "len(fs_bus_stops)"
   ]
  },
  {
   "cell_type": "markdown",
   "metadata": {},
   "source": [
    "We would expect more than 165 bus stops for a system as developed as MyCiTi, but let's have a closer look at the Foursquare data\\!"
   ]
  },
  {
   "cell_type": "code",
   "execution_count": 34,
   "metadata": {},
   "outputs": [],
   "source": [
    "df_fs_bus_stops = pd.DataFrame(fs_bus_stops.values(), columns=['id', 'name', 'lat', 'lon', 'category'])"
   ]
  },
  {
   "cell_type": "code",
   "execution_count": 35,
   "metadata": {},
   "outputs": [
    {
     "data": {
      "text/html": [
       "<div>\n",
       "<style scoped>\n",
       "    .dataframe tbody tr th:only-of-type {\n",
       "        vertical-align: middle;\n",
       "    }\n",
       "\n",
       "    .dataframe tbody tr th {\n",
       "        vertical-align: top;\n",
       "    }\n",
       "\n",
       "    .dataframe thead th {\n",
       "        text-align: right;\n",
       "    }\n",
       "</style>\n",
       "<table border=\"1\" class=\"dataframe\">\n",
       "  <thead>\n",
       "    <tr style=\"text-align: right;\">\n",
       "      <th></th>\n",
       "      <th>id</th>\n",
       "      <th>name</th>\n",
       "      <th>lat</th>\n",
       "      <th>lon</th>\n",
       "      <th>category</th>\n",
       "    </tr>\n",
       "  </thead>\n",
       "  <tbody>\n",
       "    <tr>\n",
       "      <th>0</th>\n",
       "      <td>4c790427dbaa76b00d57184b</td>\n",
       "      <td>Fish Hoek Taxi Rank / Bus Station</td>\n",
       "      <td>-34.136455</td>\n",
       "      <td>18.432575</td>\n",
       "      <td>Bus Station</td>\n",
       "    </tr>\n",
       "    <tr>\n",
       "      <th>1</th>\n",
       "      <td>54db79f3498eabafa6833aa5</td>\n",
       "      <td>Partybus SA</td>\n",
       "      <td>-34.156093</td>\n",
       "      <td>18.971288</td>\n",
       "      <td>Bus Station</td>\n",
       "    </tr>\n",
       "    <tr>\n",
       "      <th>2</th>\n",
       "      <td>4efc7e4ff790d5546e0bfb8a</td>\n",
       "      <td>Bushalte 'Koekamerstraat' (Lijn 61)</td>\n",
       "      <td>-34.083333</td>\n",
       "      <td>18.666667</td>\n",
       "      <td>Bus Station</td>\n",
       "    </tr>\n",
       "    <tr>\n",
       "      <th>3</th>\n",
       "      <td>4e81539230f86985e3fec358</td>\n",
       "      <td>Bus Stop - Somerset To CPT</td>\n",
       "      <td>-34.077321</td>\n",
       "      <td>18.846245</td>\n",
       "      <td>Bus Station</td>\n",
       "    </tr>\n",
       "    <tr>\n",
       "      <th>4</th>\n",
       "      <td>530a462a498ea6e7b517d548</td>\n",
       "      <td>MyCiti Bus - Northsjore</td>\n",
       "      <td>-34.046962</td>\n",
       "      <td>18.348096</td>\n",
       "      <td>Bus Station</td>\n",
       "    </tr>\n",
       "    <tr>\n",
       "      <th>5</th>\n",
       "      <td>52dbe93e498e55ce1197c172</td>\n",
       "      <td>Kronendal Park &amp; Ride</td>\n",
       "      <td>-34.040592</td>\n",
       "      <td>18.359938</td>\n",
       "      <td>Bus Line</td>\n",
       "    </tr>\n",
       "    <tr>\n",
       "      <th>6</th>\n",
       "      <td>53f6e495498ea6a295aca2d4</td>\n",
       "      <td>MyCiti Bus - Atlantic Skipper (108)</td>\n",
       "      <td>-34.053463</td>\n",
       "      <td>18.349653</td>\n",
       "      <td>Bus Stop</td>\n",
       "    </tr>\n",
       "    <tr>\n",
       "      <th>7</th>\n",
       "      <td>57681f91cd101651d2aa9a4a</td>\n",
       "      <td>Salfred's Coach And Minibus Tours</td>\n",
       "      <td>-34.060235</td>\n",
       "      <td>18.480399</td>\n",
       "      <td>Bus Station</td>\n",
       "    </tr>\n",
       "    <tr>\n",
       "      <th>8</th>\n",
       "      <td>4f799c45e4b0795c39f0e592</td>\n",
       "      <td>Mitchell's plain town center( bus stop)</td>\n",
       "      <td>-34.042322</td>\n",
       "      <td>18.622367</td>\n",
       "      <td>Bus Station</td>\n",
       "    </tr>\n",
       "    <tr>\n",
       "      <th>9</th>\n",
       "      <td>5050051ae4b020e9adb7bac0</td>\n",
       "      <td>Golden Arrow Town Centre</td>\n",
       "      <td>-34.033809</td>\n",
       "      <td>18.612445</td>\n",
       "      <td>Bus Station</td>\n",
       "    </tr>\n",
       "  </tbody>\n",
       "</table>\n",
       "</div>"
      ],
      "text/plain": [
       "                         id                                     name  \\\n",
       "0  4c790427dbaa76b00d57184b        Fish Hoek Taxi Rank / Bus Station   \n",
       "1  54db79f3498eabafa6833aa5                              Partybus SA   \n",
       "2  4efc7e4ff790d5546e0bfb8a      Bushalte 'Koekamerstraat' (Lijn 61)   \n",
       "3  4e81539230f86985e3fec358               Bus Stop - Somerset To CPT   \n",
       "4  530a462a498ea6e7b517d548                  MyCiti Bus - Northsjore   \n",
       "5  52dbe93e498e55ce1197c172                    Kronendal Park & Ride   \n",
       "6  53f6e495498ea6a295aca2d4      MyCiti Bus - Atlantic Skipper (108)   \n",
       "7  57681f91cd101651d2aa9a4a        Salfred's Coach And Minibus Tours   \n",
       "8  4f799c45e4b0795c39f0e592  Mitchell's plain town center( bus stop)   \n",
       "9  5050051ae4b020e9adb7bac0                 Golden Arrow Town Centre   \n",
       "\n",
       "         lat        lon     category  \n",
       "0 -34.136455  18.432575  Bus Station  \n",
       "1 -34.156093  18.971288  Bus Station  \n",
       "2 -34.083333  18.666667  Bus Station  \n",
       "3 -34.077321  18.846245  Bus Station  \n",
       "4 -34.046962  18.348096  Bus Station  \n",
       "5 -34.040592  18.359938     Bus Line  \n",
       "6 -34.053463  18.349653     Bus Stop  \n",
       "7 -34.060235  18.480399  Bus Station  \n",
       "8 -34.042322  18.622367  Bus Station  \n",
       "9 -34.033809  18.612445  Bus Station  "
      ]
     },
     "execution_count": 35,
     "metadata": {},
     "output_type": "execute_result"
    }
   ],
   "source": [
    "df_fs_bus_stops.head(10)"
   ]
  },
  {
   "cell_type": "markdown",
   "metadata": {},
   "source": [
    "As we can see, this is quite a mixed dataset. Looking at the data, we do not understand the difference between 'Bus Station', 'Bus Stop' and 'Bus Line'.  \n",
    "A quick visualisation shows that there are more bus stations in Cape Town than bus stops, which does not make sense:"
   ]
  },
  {
   "cell_type": "code",
   "execution_count": 36,
   "metadata": {},
   "outputs": [],
   "source": [
    "import seaborn as sns"
   ]
  },
  {
   "cell_type": "code",
   "execution_count": 37,
   "metadata": {},
   "outputs": [
    {
     "data": {
      "text/plain": [
       "<matplotlib.axes._subplots.AxesSubplot at 0x7fdf5b3daa90>"
      ]
     },
     "execution_count": 37,
     "metadata": {},
     "output_type": "execute_result"
    },
    {
     "data": {
      "image/png": "[encoded data removed]",
      "text/plain": [
       "<Figure size 432x288 with 1 Axes>"
      ]
     },
     "metadata": {
      "needs_background": "light"
     },
     "output_type": "display_data"
    }
   ],
   "source": [
    "chart = sns.countplot(x=\"category\", data=df_fs_bus_stops)\n",
    "sns.set(rc={'figure.figsize':(4,4)})\n",
    "chart.set_xticklabels(chart.get_xticklabels(), rotation=45, horizontalalignment='right')\n",
    "chart"
   ]
  },
  {
   "cell_type": "markdown",
   "metadata": {},
   "source": [
    "We also note that the dataset contains other items that we are not interested in, such as Partybus, Park & Ride, Coach Tours and Golden Arrow bus stops, which we need to discard.  \n",
    "Given that there is no consistency in how Foursquare spells 'MyCiTi', we will keep those items that contain both 'MY' and 'CIT', case-insensitive."
   ]
  },
  {
   "cell_type": "code",
   "execution_count": 38,
   "metadata": {},
   "outputs": [],
   "source": [
    "df_fs_bus_stops = df_fs_bus_stops[df_fs_bus_stops['name'].str.contains('MY', case=False) & df_fs_bus_stops['name'].str.contains('CIT', case=False)]"
   ]
  },
  {
   "cell_type": "code",
   "execution_count": 39,
   "metadata": {},
   "outputs": [
    {
     "data": {
      "text/html": [
       "<div>\n",
       "<style scoped>\n",
       "    .dataframe tbody tr th:only-of-type {\n",
       "        vertical-align: middle;\n",
       "    }\n",
       "\n",
       "    .dataframe tbody tr th {\n",
       "        vertical-align: top;\n",
       "    }\n",
       "\n",
       "    .dataframe thead th {\n",
       "        text-align: right;\n",
       "    }\n",
       "</style>\n",
       "<table border=\"1\" class=\"dataframe\">\n",
       "  <thead>\n",
       "    <tr style=\"text-align: right;\">\n",
       "      <th></th>\n",
       "      <th>id</th>\n",
       "      <th>name</th>\n",
       "      <th>lat</th>\n",
       "      <th>lon</th>\n",
       "      <th>category</th>\n",
       "    </tr>\n",
       "  </thead>\n",
       "  <tbody>\n",
       "    <tr>\n",
       "      <th>4</th>\n",
       "      <td>530a462a498ea6e7b517d548</td>\n",
       "      <td>MyCiti Bus - Northsjore</td>\n",
       "      <td>-34.046962</td>\n",
       "      <td>18.348096</td>\n",
       "      <td>Bus Station</td>\n",
       "    </tr>\n",
       "    <tr>\n",
       "      <th>6</th>\n",
       "      <td>53f6e495498ea6a295aca2d4</td>\n",
       "      <td>MyCiti Bus - Atlantic Skipper (108)</td>\n",
       "      <td>-34.053463</td>\n",
       "      <td>18.349653</td>\n",
       "      <td>Bus Stop</td>\n",
       "    </tr>\n",
       "    <tr>\n",
       "      <th>20</th>\n",
       "      <td>4d3dd3c6af8ca143db7b0ff7</td>\n",
       "      <td>MyCity Bus Station</td>\n",
       "      <td>-33.967895</td>\n",
       "      <td>18.579911</td>\n",
       "      <td>Bus Station</td>\n",
       "    </tr>\n",
       "    <tr>\n",
       "      <th>23</th>\n",
       "      <td>56588b94498ebf764cdb8e61</td>\n",
       "      <td>MyCiti 110 Table Mountain</td>\n",
       "      <td>-33.944926</td>\n",
       "      <td>18.399593</td>\n",
       "      <td>Bus Line</td>\n",
       "    </tr>\n",
       "    <tr>\n",
       "      <th>24</th>\n",
       "      <td>52bd6b19498e30da1ca5fee5</td>\n",
       "      <td>Fiskaal Myciti bus stop</td>\n",
       "      <td>-33.958630</td>\n",
       "      <td>18.382826</td>\n",
       "      <td>Bus Station</td>\n",
       "    </tr>\n",
       "    <tr>\n",
       "      <th>25</th>\n",
       "      <td>59c60ebd6f0aa23f3525d8bb</td>\n",
       "      <td>Mycity: Bus Station Bakoven</td>\n",
       "      <td>-33.962778</td>\n",
       "      <td>18.373825</td>\n",
       "      <td>Bus Stop</td>\n",
       "    </tr>\n",
       "    <tr>\n",
       "      <th>26</th>\n",
       "      <td>52c01cd4498e2370dc36b4ab</td>\n",
       "      <td>MyCiti bus - Camps Bay</td>\n",
       "      <td>-33.951315</td>\n",
       "      <td>18.378222</td>\n",
       "      <td>Bus Station</td>\n",
       "    </tr>\n",
       "    <tr>\n",
       "      <th>28</th>\n",
       "      <td>56588e14498eeecedd1441e5</td>\n",
       "      <td>MyCiti Upper Tafelberg</td>\n",
       "      <td>-33.943533</td>\n",
       "      <td>18.396418</td>\n",
       "      <td>Bus Station</td>\n",
       "    </tr>\n",
       "    <tr>\n",
       "      <th>29</th>\n",
       "      <td>56588f19498e5e36df173566</td>\n",
       "      <td>MyCiti Lower Tafelberg</td>\n",
       "      <td>-33.942599</td>\n",
       "      <td>18.395020</td>\n",
       "      <td>Bus Station</td>\n",
       "    </tr>\n",
       "    <tr>\n",
       "      <th>30</th>\n",
       "      <td>50a5f41de4b0db20bfd5ce96</td>\n",
       "      <td>Myciti Bus Station Gardens</td>\n",
       "      <td>-33.934046</td>\n",
       "      <td>18.419342</td>\n",
       "      <td>Bus Station</td>\n",
       "    </tr>\n",
       "  </tbody>\n",
       "</table>\n",
       "</div>"
      ],
      "text/plain": [
       "                          id                                 name        lat  \\\n",
       "4   530a462a498ea6e7b517d548              MyCiti Bus - Northsjore -34.046962   \n",
       "6   53f6e495498ea6a295aca2d4  MyCiti Bus - Atlantic Skipper (108) -34.053463   \n",
       "20  4d3dd3c6af8ca143db7b0ff7                   MyCity Bus Station -33.967895   \n",
       "23  56588b94498ebf764cdb8e61            MyCiti 110 Table Mountain -33.944926   \n",
       "24  52bd6b19498e30da1ca5fee5              Fiskaal Myciti bus stop -33.958630   \n",
       "25  59c60ebd6f0aa23f3525d8bb          Mycity: Bus Station Bakoven -33.962778   \n",
       "26  52c01cd4498e2370dc36b4ab               MyCiti bus - Camps Bay -33.951315   \n",
       "28  56588e14498eeecedd1441e5               MyCiti Upper Tafelberg -33.943533   \n",
       "29  56588f19498e5e36df173566               MyCiti Lower Tafelberg -33.942599   \n",
       "30  50a5f41de4b0db20bfd5ce96           Myciti Bus Station Gardens -33.934046   \n",
       "\n",
       "          lon     category  \n",
       "4   18.348096  Bus Station  \n",
       "6   18.349653     Bus Stop  \n",
       "20  18.579911  Bus Station  \n",
       "23  18.399593     Bus Line  \n",
       "24  18.382826  Bus Station  \n",
       "25  18.373825     Bus Stop  \n",
       "26  18.378222  Bus Station  \n",
       "28  18.396418  Bus Station  \n",
       "29  18.395020  Bus Station  \n",
       "30  18.419342  Bus Station  "
      ]
     },
     "execution_count": 39,
     "metadata": {},
     "output_type": "execute_result"
    }
   ],
   "source": [
    "df_fs_bus_stops.head(10)"
   ]
  },
  {
   "cell_type": "code",
   "execution_count": 40,
   "metadata": {},
   "outputs": [
    {
     "data": {
      "text/plain": [
       "83"
      ]
     },
     "execution_count": 40,
     "metadata": {},
     "output_type": "execute_result"
    }
   ],
   "source": [
    "len(df_fs_bus_stops)"
   ]
  },
  {
   "cell_type": "code",
   "execution_count": 41,
   "metadata": {},
   "outputs": [],
   "source": [
    "df_fs_bus_stops.to_csv('df_all_foursquare_bus_stops.csv', index=False)"
   ]
  },
  {
   "cell_type": "markdown",
   "metadata": {},
   "source": [
    "Let's visualise the 83 bus stops found:"
   ]
  },
  {
   "cell_type": "code",
   "execution_count": 42,
   "metadata": {},
   "outputs": [],
   "source": [
    "m = folium.Map(location=[lat_centre, lon_centre], zoom_start=10)\n",
    "folium.TileLayer('cartodbpositron').add_to(m)\n",
    "folium.GeoJson('Official_Suburbs.geojson', name='geojson').add_to(m)\n",
    "for i, b in df_fs_bus_stops.iterrows():\n",
    "    folium.Circle([b['lat'], b['lon']], radius=5, fill=False, color='red').add_to(m)\n",
    "m.save('Map 3 - Foursquare Bus Stops.html')"
   ]
  },
  {
   "cell_type": "markdown",
   "metadata": {},
   "source": [
    "Our observations:\n",
    " - Foursquare did not return any MyCiTi bus stops in Khayelitsha and Mitchells Plain, even though services have been operating there for more than 5 years.\n",
    " - The overall density of bus stops is far from what we see on the official bus map, indicating that the Foursquare dataset is far from complete. <span style='color:green'>[6]</span>\n",
    " - Despite our hopes, one of the Foursquare bus stops is located in the Atlantic Ocean."
   ]
  },
  {
   "cell_type": "markdown",
   "metadata": {},
   "source": [
    "This makes us wonder if there is an alternative data provider that we could use?  \n",
    "We have found a similar dataset on the Open Data Portal <span style='color:green'>[5]</span>, however it contains specifically MyCiTi stops only, so let's look at it to see if it is any better."
   ]
  },
  {
   "cell_type": "markdown",
   "metadata": {},
   "source": [
    "### MyCiTi Bus Stops (Open Data Portal)"
   ]
  },
  {
   "cell_type": "code",
   "execution_count": 43,
   "metadata": {},
   "outputs": [],
   "source": [
    "!wget --quiet https://opendata.arcgis.com/datasets/19684ea3f08b4c95ab4fe7099ed75e81_96.geojson -O Bus_Stops.geojson"
   ]
  },
  {
   "cell_type": "code",
   "execution_count": 44,
   "metadata": {},
   "outputs": [],
   "source": [
    "with open('Bus_Stops.geojson', 'r') as geo_file_bus_stops:\n",
    "    geo_data_bus_stops = json.load(geo_file_bus_stops)"
   ]
  },
  {
   "cell_type": "code",
   "execution_count": 45,
   "metadata": {},
   "outputs": [],
   "source": [
    "bus_stops = []\n",
    "for f in geo_data_bus_stops['features']:\n",
    "    bus_stops.append([f['properties']['NAME'].strip(), f['geometry']['coordinates'][1], f['geometry']['coordinates'][0]])"
   ]
  },
  {
   "cell_type": "code",
   "execution_count": 46,
   "metadata": {},
   "outputs": [
    {
     "data": {
      "text/plain": [
       "(1810, 3)"
      ]
     },
     "execution_count": 46,
     "metadata": {},
     "output_type": "execute_result"
    }
   ],
   "source": [
    "df_bus_stops = pd.DataFrame(bus_stops, columns=['name', 'lat', 'lon'])\n",
    "df_bus_stops.shape"
   ]
  },
  {
   "cell_type": "code",
   "execution_count": 47,
   "metadata": {},
   "outputs": [
    {
     "data": {
      "text/html": [
       "<div>\n",
       "<style scoped>\n",
       "    .dataframe tbody tr th:only-of-type {\n",
       "        vertical-align: middle;\n",
       "    }\n",
       "\n",
       "    .dataframe tbody tr th {\n",
       "        vertical-align: top;\n",
       "    }\n",
       "\n",
       "    .dataframe thead th {\n",
       "        text-align: right;\n",
       "    }\n",
       "</style>\n",
       "<table border=\"1\" class=\"dataframe\">\n",
       "  <thead>\n",
       "    <tr style=\"text-align: right;\">\n",
       "      <th></th>\n",
       "      <th>name</th>\n",
       "      <th>lat</th>\n",
       "      <th>lon</th>\n",
       "    </tr>\n",
       "  </thead>\n",
       "  <tbody>\n",
       "    <tr>\n",
       "      <th>0</th>\n",
       "      <td>Atlantis</td>\n",
       "      <td>-33.563905</td>\n",
       "      <td>18.491651</td>\n",
       "    </tr>\n",
       "    <tr>\n",
       "      <th>1</th>\n",
       "      <td>Arion</td>\n",
       "      <td>-33.559079</td>\n",
       "      <td>18.496201</td>\n",
       "    </tr>\n",
       "    <tr>\n",
       "      <th>2</th>\n",
       "      <td>Charel Uys North</td>\n",
       "      <td>-33.555698</td>\n",
       "      <td>18.493862</td>\n",
       "    </tr>\n",
       "    <tr>\n",
       "      <th>3</th>\n",
       "      <td>Montreal</td>\n",
       "      <td>-33.552135</td>\n",
       "      <td>18.493488</td>\n",
       "    </tr>\n",
       "    <tr>\n",
       "      <th>4</th>\n",
       "      <td>Tsitsikamma</td>\n",
       "      <td>-33.547498</td>\n",
       "      <td>18.494424</td>\n",
       "    </tr>\n",
       "  </tbody>\n",
       "</table>\n",
       "</div>"
      ],
      "text/plain": [
       "               name        lat        lon\n",
       "0          Atlantis -33.563905  18.491651\n",
       "1             Arion -33.559079  18.496201\n",
       "2  Charel Uys North -33.555698  18.493862\n",
       "3          Montreal -33.552135  18.493488\n",
       "4       Tsitsikamma -33.547498  18.494424"
      ]
     },
     "execution_count": 47,
     "metadata": {},
     "output_type": "execute_result"
    }
   ],
   "source": [
    "df_bus_stops.head()"
   ]
  },
  {
   "cell_type": "markdown",
   "metadata": {},
   "source": [
    "As we can see, there are substantially more bus stops than the 83 returned by Foursquare, however some data cleansing is still required.  \n",
    "For example, it looks like the dataset has two separate entries for the two opposite directions of the same bus stop.  \n",
    "We also note there are entries with blank names (what are they?), and one bus stop is misspelled (10 Avenue)."
   ]
  },
  {
   "cell_type": "code",
   "execution_count": 48,
   "metadata": {},
   "outputs": [
    {
     "data": {
      "text/plain": [
       "(966, 3)"
      ]
     },
     "execution_count": 48,
     "metadata": {},
     "output_type": "execute_result"
    }
   ],
   "source": [
    "df_bus_stops.replace('10 Avenue', '10th Avenue', inplace=True)\n",
    "df_bus_stops.drop_duplicates(inplace=True)\n",
    "df_bus_stops.shape"
   ]
  },
  {
   "cell_type": "code",
   "execution_count": 49,
   "metadata": {},
   "outputs": [
    {
     "data": {
      "text/plain": [
       "18"
      ]
     },
     "execution_count": 49,
     "metadata": {},
     "output_type": "execute_result"
    }
   ],
   "source": [
    "df_bus_stops_empty = df_bus_stops.loc[df_bus_stops['name'] == '']\n",
    "df_bus_stops_valid = df_bus_stops.loc[df_bus_stops['name'] != '']\n",
    "len(df_bus_stops_empty)"
   ]
  },
  {
   "cell_type": "markdown",
   "metadata": {},
   "source": [
    "For the 18 bus stops with empty names let's check if there is another bus stop with a valid name and exactly the same coordinates:"
   ]
  },
  {
   "cell_type": "code",
   "execution_count": 50,
   "metadata": {},
   "outputs": [
    {
     "data": {
      "text/html": [
       "<div>\n",
       "<style scoped>\n",
       "    .dataframe tbody tr th:only-of-type {\n",
       "        vertical-align: middle;\n",
       "    }\n",
       "\n",
       "    .dataframe tbody tr th {\n",
       "        vertical-align: top;\n",
       "    }\n",
       "\n",
       "    .dataframe thead th {\n",
       "        text-align: right;\n",
       "    }\n",
       "</style>\n",
       "<table border=\"1\" class=\"dataframe\">\n",
       "  <thead>\n",
       "    <tr style=\"text-align: right;\">\n",
       "      <th></th>\n",
       "      <th>name_x</th>\n",
       "      <th>lat</th>\n",
       "      <th>lon</th>\n",
       "      <th>name_y</th>\n",
       "    </tr>\n",
       "  </thead>\n",
       "  <tbody>\n",
       "    <tr>\n",
       "      <th>0</th>\n",
       "      <td></td>\n",
       "      <td>-33.927658</td>\n",
       "      <td>18.464364</td>\n",
       "      <td>Salt River Rail</td>\n",
       "    </tr>\n",
       "    <tr>\n",
       "      <th>1</th>\n",
       "      <td></td>\n",
       "      <td>-33.929330</td>\n",
       "      <td>18.464814</td>\n",
       "      <td>Spencer</td>\n",
       "    </tr>\n",
       "    <tr>\n",
       "      <th>2</th>\n",
       "      <td></td>\n",
       "      <td>-33.928923</td>\n",
       "      <td>18.458854</td>\n",
       "      <td>Kent</td>\n",
       "    </tr>\n",
       "    <tr>\n",
       "      <th>3</th>\n",
       "      <td></td>\n",
       "      <td>-33.930004</td>\n",
       "      <td>18.457270</td>\n",
       "      <td>Upper Salt River</td>\n",
       "    </tr>\n",
       "    <tr>\n",
       "      <th>4</th>\n",
       "      <td></td>\n",
       "      <td>-33.931833</td>\n",
       "      <td>18.452922</td>\n",
       "      <td>Lawley</td>\n",
       "    </tr>\n",
       "    <tr>\n",
       "      <th>5</th>\n",
       "      <td></td>\n",
       "      <td>-33.934748</td>\n",
       "      <td>18.451638</td>\n",
       "      <td>Balfour</td>\n",
       "    </tr>\n",
       "    <tr>\n",
       "      <th>6</th>\n",
       "      <td></td>\n",
       "      <td>-33.937594</td>\n",
       "      <td>18.451061</td>\n",
       "      <td>Upper Roodebloem</td>\n",
       "    </tr>\n",
       "    <tr>\n",
       "      <th>7</th>\n",
       "      <td></td>\n",
       "      <td>-33.936044</td>\n",
       "      <td>18.448998</td>\n",
       "      <td>Upper Mountain</td>\n",
       "    </tr>\n",
       "    <tr>\n",
       "      <th>8</th>\n",
       "      <td></td>\n",
       "      <td>-33.934834</td>\n",
       "      <td>18.446958</td>\n",
       "      <td>Coronation East</td>\n",
       "    </tr>\n",
       "    <tr>\n",
       "      <th>9</th>\n",
       "      <td></td>\n",
       "      <td>-33.934494</td>\n",
       "      <td>18.443189</td>\n",
       "      <td>Coronation West</td>\n",
       "    </tr>\n",
       "    <tr>\n",
       "      <th>10</th>\n",
       "      <td></td>\n",
       "      <td>-33.933090</td>\n",
       "      <td>18.438730</td>\n",
       "      <td>Zonnebloem</td>\n",
       "    </tr>\n",
       "    <tr>\n",
       "      <th>11</th>\n",
       "      <td></td>\n",
       "      <td>-33.931469</td>\n",
       "      <td>18.435208</td>\n",
       "      <td>District Six</td>\n",
       "    </tr>\n",
       "    <tr>\n",
       "      <th>12</th>\n",
       "      <td></td>\n",
       "      <td>-33.929691</td>\n",
       "      <td>18.430711</td>\n",
       "      <td>CPUT</td>\n",
       "    </tr>\n",
       "    <tr>\n",
       "      <th>13</th>\n",
       "      <td></td>\n",
       "      <td>-33.829499</td>\n",
       "      <td>18.506749</td>\n",
       "      <td>Wood</td>\n",
       "    </tr>\n",
       "    <tr>\n",
       "      <th>14</th>\n",
       "      <td></td>\n",
       "      <td>-33.824768</td>\n",
       "      <td>18.488834</td>\n",
       "      <td>Table View</td>\n",
       "    </tr>\n",
       "    <tr>\n",
       "      <th>15</th>\n",
       "      <td></td>\n",
       "      <td>-33.853302</td>\n",
       "      <td>18.496309</td>\n",
       "      <td>Sunset Beach</td>\n",
       "    </tr>\n",
       "    <tr>\n",
       "      <th>16</th>\n",
       "      <td></td>\n",
       "      <td>-33.861384</td>\n",
       "      <td>18.500367</td>\n",
       "      <td>Racecourse</td>\n",
       "    </tr>\n",
       "    <tr>\n",
       "      <th>17</th>\n",
       "      <td></td>\n",
       "      <td>-33.920718</td>\n",
       "      <td>18.429722</td>\n",
       "      <td>Civic Centre</td>\n",
       "    </tr>\n",
       "  </tbody>\n",
       "</table>\n",
       "</div>"
      ],
      "text/plain": [
       "   name_x        lat        lon            name_y\n",
       "0         -33.927658  18.464364   Salt River Rail\n",
       "1         -33.929330  18.464814           Spencer\n",
       "2         -33.928923  18.458854              Kent\n",
       "3         -33.930004  18.457270  Upper Salt River\n",
       "4         -33.931833  18.452922            Lawley\n",
       "5         -33.934748  18.451638           Balfour\n",
       "6         -33.937594  18.451061  Upper Roodebloem\n",
       "7         -33.936044  18.448998    Upper Mountain\n",
       "8         -33.934834  18.446958   Coronation East\n",
       "9         -33.934494  18.443189   Coronation West\n",
       "10        -33.933090  18.438730        Zonnebloem\n",
       "11        -33.931469  18.435208      District Six\n",
       "12        -33.929691  18.430711              CPUT\n",
       "13        -33.829499  18.506749              Wood\n",
       "14        -33.824768  18.488834        Table View\n",
       "15        -33.853302  18.496309      Sunset Beach\n",
       "16        -33.861384  18.500367        Racecourse\n",
       "17        -33.920718  18.429722      Civic Centre"
      ]
     },
     "execution_count": 50,
     "metadata": {},
     "output_type": "execute_result"
    }
   ],
   "source": [
    "df_bus_stops_empty_enriched = pd.merge(df_bus_stops_empty, df_bus_stops_valid, on=['lat', 'lon'])\n",
    "df_bus_stops_empty_enriched"
   ]
  },
  {
   "cell_type": "markdown",
   "metadata": {},
   "source": [
    "As we can see, each and every one of them actually has also been defined with a valid name. We will therefore simply drop the bus stops with empty names."
   ]
  },
  {
   "cell_type": "code",
   "execution_count": 51,
   "metadata": {},
   "outputs": [
    {
     "data": {
      "text/html": [
       "<div>\n",
       "<style scoped>\n",
       "    .dataframe tbody tr th:only-of-type {\n",
       "        vertical-align: middle;\n",
       "    }\n",
       "\n",
       "    .dataframe tbody tr th {\n",
       "        vertical-align: top;\n",
       "    }\n",
       "\n",
       "    .dataframe thead th {\n",
       "        text-align: right;\n",
       "    }\n",
       "</style>\n",
       "<table border=\"1\" class=\"dataframe\">\n",
       "  <thead>\n",
       "    <tr style=\"text-align: right;\">\n",
       "      <th></th>\n",
       "      <th>name</th>\n",
       "      <th>lat</th>\n",
       "      <th>lon</th>\n",
       "    </tr>\n",
       "  </thead>\n",
       "  <tbody>\n",
       "    <tr>\n",
       "      <th>0</th>\n",
       "      <td>10th Avenue</td>\n",
       "      <td>-34.041992</td>\n",
       "      <td>18.617469</td>\n",
       "    </tr>\n",
       "    <tr>\n",
       "      <th>1</th>\n",
       "      <td>10th Avenue</td>\n",
       "      <td>-34.041992</td>\n",
       "      <td>18.617468</td>\n",
       "    </tr>\n",
       "    <tr>\n",
       "      <th>2</th>\n",
       "      <td>6th Avenue</td>\n",
       "      <td>-34.052644</td>\n",
       "      <td>18.625384</td>\n",
       "    </tr>\n",
       "    <tr>\n",
       "      <th>3</th>\n",
       "      <td>6th Avenue</td>\n",
       "      <td>-34.052592</td>\n",
       "      <td>18.625469</td>\n",
       "    </tr>\n",
       "    <tr>\n",
       "      <th>4</th>\n",
       "      <td>Abalone</td>\n",
       "      <td>-33.831848</td>\n",
       "      <td>18.546718</td>\n",
       "    </tr>\n",
       "  </tbody>\n",
       "</table>\n",
       "</div>"
      ],
      "text/plain": [
       "          name        lat        lon\n",
       "0  10th Avenue -34.041992  18.617469\n",
       "1  10th Avenue -34.041992  18.617468\n",
       "2   6th Avenue -34.052644  18.625384\n",
       "3   6th Avenue -34.052592  18.625469\n",
       "4      Abalone -33.831848  18.546718"
      ]
     },
     "execution_count": 51,
     "metadata": {},
     "output_type": "execute_result"
    }
   ],
   "source": [
    "df_bus_stops = df_bus_stops_valid.sort_values(by=['name', 'lat', 'lon'])\n",
    "df_bus_stops.reset_index(drop=True, inplace=True)\n",
    "df_bus_stops.head()"
   ]
  },
  {
   "cell_type": "markdown",
   "metadata": {},
   "source": [
    "There are still what we consider duplicates for the sake of our exercise, i.e. bus stops having the same name located too close to each other.  \n",
    "How can we exclude such duplicates? In a group of bus stops having the same name, let's calculate the distance to the next bus stop in this sorted list."
   ]
  },
  {
   "cell_type": "code",
   "execution_count": 52,
   "metadata": {},
   "outputs": [],
   "source": [
    "df_bus_stops['distance'] = -1.0\n",
    "for i in range(len(df_bus_stops)-1):\n",
    "    if df_bus_stops['name'][i] == df_bus_stops['name'][i+1]:\n",
    "        d = distance(df_bus_stops['lat'][i], df_bus_stops['lon'][i], df_bus_stops['lat'][i+1], df_bus_stops['lon'][i+1])\n",
    "        df_bus_stops.iloc[i+1, 3] = d"
   ]
  },
  {
   "cell_type": "code",
   "execution_count": 53,
   "metadata": {},
   "outputs": [
    {
     "data": {
      "text/html": [
       "<div>\n",
       "<style scoped>\n",
       "    .dataframe tbody tr th:only-of-type {\n",
       "        vertical-align: middle;\n",
       "    }\n",
       "\n",
       "    .dataframe tbody tr th {\n",
       "        vertical-align: top;\n",
       "    }\n",
       "\n",
       "    .dataframe thead th {\n",
       "        text-align: right;\n",
       "    }\n",
       "</style>\n",
       "<table border=\"1\" class=\"dataframe\">\n",
       "  <thead>\n",
       "    <tr style=\"text-align: right;\">\n",
       "      <th></th>\n",
       "      <th>name</th>\n",
       "      <th>lat</th>\n",
       "      <th>lon</th>\n",
       "      <th>distance</th>\n",
       "    </tr>\n",
       "  </thead>\n",
       "  <tbody>\n",
       "    <tr>\n",
       "      <th>0</th>\n",
       "      <td>10th Avenue</td>\n",
       "      <td>-34.041992</td>\n",
       "      <td>18.617469</td>\n",
       "      <td>-1.000000</td>\n",
       "    </tr>\n",
       "    <tr>\n",
       "      <th>1</th>\n",
       "      <td>10th Avenue</td>\n",
       "      <td>-34.041992</td>\n",
       "      <td>18.617468</td>\n",
       "      <td>0.078666</td>\n",
       "    </tr>\n",
       "    <tr>\n",
       "      <th>2</th>\n",
       "      <td>6th Avenue</td>\n",
       "      <td>-34.052644</td>\n",
       "      <td>18.625384</td>\n",
       "      <td>-1.000000</td>\n",
       "    </tr>\n",
       "    <tr>\n",
       "      <th>3</th>\n",
       "      <td>6th Avenue</td>\n",
       "      <td>-34.052592</td>\n",
       "      <td>18.625469</td>\n",
       "      <td>9.734506</td>\n",
       "    </tr>\n",
       "    <tr>\n",
       "      <th>4</th>\n",
       "      <td>Abalone</td>\n",
       "      <td>-33.831848</td>\n",
       "      <td>18.546718</td>\n",
       "      <td>-1.000000</td>\n",
       "    </tr>\n",
       "  </tbody>\n",
       "</table>\n",
       "</div>"
      ],
      "text/plain": [
       "          name        lat        lon  distance\n",
       "0  10th Avenue -34.041992  18.617469 -1.000000\n",
       "1  10th Avenue -34.041992  18.617468  0.078666\n",
       "2   6th Avenue -34.052644  18.625384 -1.000000\n",
       "3   6th Avenue -34.052592  18.625469  9.734506\n",
       "4      Abalone -33.831848  18.546718 -1.000000"
      ]
     },
     "execution_count": 53,
     "metadata": {},
     "output_type": "execute_result"
    }
   ],
   "source": [
    "df_bus_stops.head()"
   ]
  },
  {
   "cell_type": "markdown",
   "metadata": {},
   "source": [
    "Now let's check if there are any suspicious cases, e.g. bus stops having the same name but located very far apart from each other:"
   ]
  },
  {
   "cell_type": "code",
   "execution_count": 54,
   "metadata": {},
   "outputs": [
    {
     "data": {
      "text/html": [
       "<div>\n",
       "<style scoped>\n",
       "    .dataframe tbody tr th:only-of-type {\n",
       "        vertical-align: middle;\n",
       "    }\n",
       "\n",
       "    .dataframe tbody tr th {\n",
       "        vertical-align: top;\n",
       "    }\n",
       "\n",
       "    .dataframe thead th {\n",
       "        text-align: right;\n",
       "    }\n",
       "</style>\n",
       "<table border=\"1\" class=\"dataframe\">\n",
       "  <thead>\n",
       "    <tr style=\"text-align: right;\">\n",
       "      <th></th>\n",
       "      <th>name</th>\n",
       "      <th>lat</th>\n",
       "      <th>lon</th>\n",
       "      <th>distance</th>\n",
       "    </tr>\n",
       "  </thead>\n",
       "  <tbody>\n",
       "    <tr>\n",
       "      <th>336</th>\n",
       "      <td>Goede Hoop</td>\n",
       "      <td>-33.550905</td>\n",
       "      <td>18.484894</td>\n",
       "      <td>34606.735800</td>\n",
       "    </tr>\n",
       "    <tr>\n",
       "      <th>413</th>\n",
       "      <td>Irwinton</td>\n",
       "      <td>-33.918578</td>\n",
       "      <td>18.390877</td>\n",
       "      <td>228.798102</td>\n",
       "    </tr>\n",
       "    <tr>\n",
       "      <th>654</th>\n",
       "      <td>Patrys</td>\n",
       "      <td>-33.570966</td>\n",
       "      <td>18.503298</td>\n",
       "      <td>219.279092</td>\n",
       "    </tr>\n",
       "    <tr>\n",
       "      <th>230</th>\n",
       "      <td>Darling</td>\n",
       "      <td>-33.922465</td>\n",
       "      <td>18.423899</td>\n",
       "      <td>216.344033</td>\n",
       "    </tr>\n",
       "    <tr>\n",
       "      <th>925</th>\n",
       "      <td>Whale Rock</td>\n",
       "      <td>-33.953279</td>\n",
       "      <td>18.377075</td>\n",
       "      <td>211.438163</td>\n",
       "    </tr>\n",
       "  </tbody>\n",
       "</table>\n",
       "</div>"
      ],
      "text/plain": [
       "           name        lat        lon      distance\n",
       "336  Goede Hoop -33.550905  18.484894  34606.735800\n",
       "413    Irwinton -33.918578  18.390877    228.798102\n",
       "654      Patrys -33.570966  18.503298    219.279092\n",
       "230     Darling -33.922465  18.423899    216.344033\n",
       "925  Whale Rock -33.953279  18.377075    211.438163"
      ]
     },
     "execution_count": 54,
     "metadata": {},
     "output_type": "execute_result"
    }
   ],
   "source": [
    "df_bus_stops[df_bus_stops['distance'] > 200].sort_values('distance', ascending=False)"
   ]
  },
  {
   "cell_type": "markdown",
   "metadata": {},
   "source": [
    "Indeed our results indicate that there are two groups of bus stops called 'Goede Hoop' located in very different parts of the city. Let's rename one of the groups:"
   ]
  },
  {
   "cell_type": "code",
   "execution_count": 55,
   "metadata": {},
   "outputs": [
    {
     "data": {
      "text/html": [
       "<div>\n",
       "<style scoped>\n",
       "    .dataframe tbody tr th:only-of-type {\n",
       "        vertical-align: middle;\n",
       "    }\n",
       "\n",
       "    .dataframe tbody tr th {\n",
       "        vertical-align: top;\n",
       "    }\n",
       "\n",
       "    .dataframe thead th {\n",
       "        text-align: right;\n",
       "    }\n",
       "</style>\n",
       "<table border=\"1\" class=\"dataframe\">\n",
       "  <thead>\n",
       "    <tr style=\"text-align: right;\">\n",
       "      <th></th>\n",
       "      <th>name</th>\n",
       "      <th>lat</th>\n",
       "      <th>lon</th>\n",
       "      <th>distance</th>\n",
       "    </tr>\n",
       "  </thead>\n",
       "  <tbody>\n",
       "    <tr>\n",
       "      <th>334</th>\n",
       "      <td>Goede Hoop</td>\n",
       "      <td>-33.859518</td>\n",
       "      <td>18.534821</td>\n",
       "      <td>-1.000000</td>\n",
       "    </tr>\n",
       "    <tr>\n",
       "      <th>335</th>\n",
       "      <td>Goede Hoop</td>\n",
       "      <td>-33.859356</td>\n",
       "      <td>18.534740</td>\n",
       "      <td>19.504496</td>\n",
       "    </tr>\n",
       "    <tr>\n",
       "      <th>336</th>\n",
       "      <td>Goede Hoop</td>\n",
       "      <td>-33.550905</td>\n",
       "      <td>18.484894</td>\n",
       "      <td>34606.735800</td>\n",
       "    </tr>\n",
       "    <tr>\n",
       "      <th>337</th>\n",
       "      <td>Goede Hoop</td>\n",
       "      <td>-33.550886</td>\n",
       "      <td>18.484836</td>\n",
       "      <td>5.774952</td>\n",
       "    </tr>\n",
       "    <tr>\n",
       "      <th>338</th>\n",
       "      <td>Goede Hoop</td>\n",
       "      <td>-33.550884</td>\n",
       "      <td>18.484831</td>\n",
       "      <td>0.507834</td>\n",
       "    </tr>\n",
       "  </tbody>\n",
       "</table>\n",
       "</div>"
      ],
      "text/plain": [
       "           name        lat        lon      distance\n",
       "334  Goede Hoop -33.859518  18.534821     -1.000000\n",
       "335  Goede Hoop -33.859356  18.534740     19.504496\n",
       "336  Goede Hoop -33.550905  18.484894  34606.735800\n",
       "337  Goede Hoop -33.550886  18.484836      5.774952\n",
       "338  Goede Hoop -33.550884  18.484831      0.507834"
      ]
     },
     "execution_count": 55,
     "metadata": {},
     "output_type": "execute_result"
    }
   ],
   "source": [
    "df_bus_stops[df_bus_stops['name'] == 'Goede Hoop']"
   ]
  },
  {
   "cell_type": "code",
   "execution_count": 56,
   "metadata": {},
   "outputs": [],
   "source": [
    "df_bus_stops.iloc[334, 0] = 'Goede Hoop Bothasig'\n",
    "df_bus_stops.iloc[335, 0] = 'Goede Hoop Bothasig'\n",
    "df_bus_stops.iloc[336, 3] = -1"
   ]
  },
  {
   "cell_type": "markdown",
   "metadata": {},
   "source": [
    "Now we can drop the bus stops located too close to each other and forming a cluster, so that only one of them remains:"
   ]
  },
  {
   "cell_type": "code",
   "execution_count": 57,
   "metadata": {},
   "outputs": [
    {
     "data": {
      "text/plain": [
       "(518, 3)"
      ]
     },
     "execution_count": 57,
     "metadata": {},
     "output_type": "execute_result"
    }
   ],
   "source": [
    "indices_to_drop = df_bus_stops[df_bus_stops['distance'] != -1].index\n",
    "df_bus_stops.drop(indices_to_drop, inplace=True)\n",
    "df_bus_stops.drop('distance', axis=1, inplace=True)\n",
    "df_bus_stops.reset_index(drop=True, inplace=True)\n",
    "df_bus_stops.shape"
   ]
  },
  {
   "cell_type": "code",
   "execution_count": 58,
   "metadata": {},
   "outputs": [
    {
     "data": {
      "text/html": [
       "<div>\n",
       "<style scoped>\n",
       "    .dataframe tbody tr th:only-of-type {\n",
       "        vertical-align: middle;\n",
       "    }\n",
       "\n",
       "    .dataframe tbody tr th {\n",
       "        vertical-align: top;\n",
       "    }\n",
       "\n",
       "    .dataframe thead th {\n",
       "        text-align: right;\n",
       "    }\n",
       "</style>\n",
       "<table border=\"1\" class=\"dataframe\">\n",
       "  <thead>\n",
       "    <tr style=\"text-align: right;\">\n",
       "      <th></th>\n",
       "      <th>name</th>\n",
       "      <th>lat</th>\n",
       "      <th>lon</th>\n",
       "    </tr>\n",
       "  </thead>\n",
       "  <tbody>\n",
       "    <tr>\n",
       "      <th>0</th>\n",
       "      <td>10th Avenue</td>\n",
       "      <td>-34.041992</td>\n",
       "      <td>18.617469</td>\n",
       "    </tr>\n",
       "    <tr>\n",
       "      <th>1</th>\n",
       "      <td>6th Avenue</td>\n",
       "      <td>-34.052644</td>\n",
       "      <td>18.625384</td>\n",
       "    </tr>\n",
       "    <tr>\n",
       "      <th>2</th>\n",
       "      <td>Abalone</td>\n",
       "      <td>-33.831848</td>\n",
       "      <td>18.546718</td>\n",
       "    </tr>\n",
       "    <tr>\n",
       "      <th>3</th>\n",
       "      <td>Acacia</td>\n",
       "      <td>-33.579636</td>\n",
       "      <td>18.502975</td>\n",
       "    </tr>\n",
       "    <tr>\n",
       "      <th>4</th>\n",
       "      <td>Adderley</td>\n",
       "      <td>-33.920845</td>\n",
       "      <td>18.424676</td>\n",
       "    </tr>\n",
       "  </tbody>\n",
       "</table>\n",
       "</div>"
      ],
      "text/plain": [
       "          name        lat        lon\n",
       "0  10th Avenue -34.041992  18.617469\n",
       "1   6th Avenue -34.052644  18.625384\n",
       "2      Abalone -33.831848  18.546718\n",
       "3       Acacia -33.579636  18.502975\n",
       "4     Adderley -33.920845  18.424676"
      ]
     },
     "execution_count": 58,
     "metadata": {},
     "output_type": "execute_result"
    }
   ],
   "source": [
    "df_bus_stops.head()"
   ]
  },
  {
   "cell_type": "code",
   "execution_count": 59,
   "metadata": {},
   "outputs": [],
   "source": [
    "df_bus_stops.to_csv('df_all_opendata_bus_stops.csv', index=False)"
   ]
  },
  {
   "cell_type": "markdown",
   "metadata": {},
   "source": [
    "This is a much better result.  \n",
    "Let's now determine which suburb each of the bus stops belongs to, we might need this metric later on in our analysis."
   ]
  },
  {
   "cell_type": "code",
   "execution_count": 60,
   "metadata": {},
   "outputs": [],
   "source": [
    "from shapely.geometry import Point"
   ]
  },
  {
   "cell_type": "code",
   "execution_count": 61,
   "metadata": {},
   "outputs": [],
   "source": [
    "df_bus_stops['suburb'] = None"
   ]
  },
  {
   "cell_type": "code",
   "execution_count": 62,
   "metadata": {},
   "outputs": [
    {
     "data": {
      "text/html": [
       "<div>\n",
       "<style scoped>\n",
       "    .dataframe tbody tr th:only-of-type {\n",
       "        vertical-align: middle;\n",
       "    }\n",
       "\n",
       "    .dataframe tbody tr th {\n",
       "        vertical-align: top;\n",
       "    }\n",
       "\n",
       "    .dataframe thead th {\n",
       "        text-align: right;\n",
       "    }\n",
       "</style>\n",
       "<table border=\"1\" class=\"dataframe\">\n",
       "  <thead>\n",
       "    <tr style=\"text-align: right;\">\n",
       "      <th></th>\n",
       "      <th>name</th>\n",
       "      <th>lat</th>\n",
       "      <th>lon</th>\n",
       "      <th>suburb</th>\n",
       "    </tr>\n",
       "  </thead>\n",
       "  <tbody>\n",
       "    <tr>\n",
       "      <th>0</th>\n",
       "      <td>10th Avenue</td>\n",
       "      <td>-34.041992</td>\n",
       "      <td>18.617469</td>\n",
       "      <td>None</td>\n",
       "    </tr>\n",
       "    <tr>\n",
       "      <th>1</th>\n",
       "      <td>6th Avenue</td>\n",
       "      <td>-34.052644</td>\n",
       "      <td>18.625384</td>\n",
       "      <td>None</td>\n",
       "    </tr>\n",
       "    <tr>\n",
       "      <th>2</th>\n",
       "      <td>Abalone</td>\n",
       "      <td>-33.831848</td>\n",
       "      <td>18.546718</td>\n",
       "      <td>None</td>\n",
       "    </tr>\n",
       "    <tr>\n",
       "      <th>3</th>\n",
       "      <td>Acacia</td>\n",
       "      <td>-33.579636</td>\n",
       "      <td>18.502975</td>\n",
       "      <td>None</td>\n",
       "    </tr>\n",
       "    <tr>\n",
       "      <th>4</th>\n",
       "      <td>Adderley</td>\n",
       "      <td>-33.920845</td>\n",
       "      <td>18.424676</td>\n",
       "      <td>None</td>\n",
       "    </tr>\n",
       "  </tbody>\n",
       "</table>\n",
       "</div>"
      ],
      "text/plain": [
       "          name        lat        lon suburb\n",
       "0  10th Avenue -34.041992  18.617469   None\n",
       "1   6th Avenue -34.052644  18.625384   None\n",
       "2      Abalone -33.831848  18.546718   None\n",
       "3       Acacia -33.579636  18.502975   None\n",
       "4     Adderley -33.920845  18.424676   None"
      ]
     },
     "execution_count": 62,
     "metadata": {},
     "output_type": "execute_result"
    }
   ],
   "source": [
    "df_bus_stops.head()"
   ]
  },
  {
   "cell_type": "code",
   "execution_count": 63,
   "metadata": {},
   "outputs": [],
   "source": [
    "for suburb in suburbs:\n",
    "    for p in suburb[3]:\n",
    "        for b in range(len(df_bus_stops)):\n",
    "            if p.contains(Point(df_bus_stops.loc[b, 'lon'], df_bus_stops.loc[b, 'lat'])):\n",
    "                if df_bus_stops.iloc[b, 3] is None:\n",
    "                    df_bus_stops.iloc[b, 3] = suburb[1]\n",
    "                else:\n",
    "                    df_bus_stops.iloc[b, 3] = df_bus_stops.iloc[b, 3] + ', ' + suburb[1]"
   ]
  },
  {
   "cell_type": "code",
   "execution_count": 64,
   "metadata": {},
   "outputs": [
    {
     "data": {
      "text/html": [
       "<div>\n",
       "<style scoped>\n",
       "    .dataframe tbody tr th:only-of-type {\n",
       "        vertical-align: middle;\n",
       "    }\n",
       "\n",
       "    .dataframe tbody tr th {\n",
       "        vertical-align: top;\n",
       "    }\n",
       "\n",
       "    .dataframe thead th {\n",
       "        text-align: right;\n",
       "    }\n",
       "</style>\n",
       "<table border=\"1\" class=\"dataframe\">\n",
       "  <thead>\n",
       "    <tr style=\"text-align: right;\">\n",
       "      <th></th>\n",
       "      <th>name</th>\n",
       "      <th>lat</th>\n",
       "      <th>lon</th>\n",
       "      <th>suburb</th>\n",
       "    </tr>\n",
       "  </thead>\n",
       "  <tbody>\n",
       "    <tr>\n",
       "      <th>0</th>\n",
       "      <td>10th Avenue</td>\n",
       "      <td>-34.041992</td>\n",
       "      <td>18.617469</td>\n",
       "      <td>MITCHELLS PLAIN CBD</td>\n",
       "    </tr>\n",
       "    <tr>\n",
       "      <th>1</th>\n",
       "      <td>6th Avenue</td>\n",
       "      <td>-34.052644</td>\n",
       "      <td>18.625384</td>\n",
       "      <td>EASTRIDGE</td>\n",
       "    </tr>\n",
       "    <tr>\n",
       "      <th>2</th>\n",
       "      <td>Abalone</td>\n",
       "      <td>-33.831848</td>\n",
       "      <td>18.546718</td>\n",
       "      <td>RICHWOOD</td>\n",
       "    </tr>\n",
       "    <tr>\n",
       "      <th>3</th>\n",
       "      <td>Acacia</td>\n",
       "      <td>-33.579636</td>\n",
       "      <td>18.502975</td>\n",
       "      <td>PROTEA PARK - WESFLEUR</td>\n",
       "    </tr>\n",
       "    <tr>\n",
       "      <th>4</th>\n",
       "      <td>Adderley</td>\n",
       "      <td>-33.920845</td>\n",
       "      <td>18.424676</td>\n",
       "      <td>FORESHORE</td>\n",
       "    </tr>\n",
       "  </tbody>\n",
       "</table>\n",
       "</div>"
      ],
      "text/plain": [
       "          name        lat        lon                  suburb\n",
       "0  10th Avenue -34.041992  18.617469     MITCHELLS PLAIN CBD\n",
       "1   6th Avenue -34.052644  18.625384               EASTRIDGE\n",
       "2      Abalone -33.831848  18.546718                RICHWOOD\n",
       "3       Acacia -33.579636  18.502975  PROTEA PARK - WESFLEUR\n",
       "4     Adderley -33.920845  18.424676               FORESHORE"
      ]
     },
     "execution_count": 64,
     "metadata": {},
     "output_type": "execute_result"
    }
   ],
   "source": [
    "df_bus_stops.head()"
   ]
  },
  {
   "cell_type": "markdown",
   "metadata": {},
   "source": [
    "Let's check if there are bus stops that have not been assigned to a suburb, or that have been assigned to more than one suburb:"
   ]
  },
  {
   "cell_type": "code",
   "execution_count": 65,
   "metadata": {},
   "outputs": [
    {
     "data": {
      "text/html": [
       "<div>\n",
       "<style scoped>\n",
       "    .dataframe tbody tr th:only-of-type {\n",
       "        vertical-align: middle;\n",
       "    }\n",
       "\n",
       "    .dataframe tbody tr th {\n",
       "        vertical-align: top;\n",
       "    }\n",
       "\n",
       "    .dataframe thead th {\n",
       "        text-align: right;\n",
       "    }\n",
       "</style>\n",
       "<table border=\"1\" class=\"dataframe\">\n",
       "  <thead>\n",
       "    <tr style=\"text-align: right;\">\n",
       "      <th></th>\n",
       "      <th>name</th>\n",
       "      <th>lat</th>\n",
       "      <th>lon</th>\n",
       "      <th>suburb</th>\n",
       "    </tr>\n",
       "  </thead>\n",
       "  <tbody>\n",
       "    <tr>\n",
       "      <th>364</th>\n",
       "      <td>Perlemoen</td>\n",
       "      <td>-33.807416</td>\n",
       "      <td>18.466714</td>\n",
       "      <td>None</td>\n",
       "    </tr>\n",
       "  </tbody>\n",
       "</table>\n",
       "</div>"
      ],
      "text/plain": [
       "          name        lat        lon suburb\n",
       "364  Perlemoen -33.807416  18.466714   None"
      ]
     },
     "execution_count": 65,
     "metadata": {},
     "output_type": "execute_result"
    }
   ],
   "source": [
    "df_bus_stops[(df_bus_stops['suburb'].isnull()) | (df_bus_stops['suburb'].str.contains(','))]"
   ]
  },
  {
   "cell_type": "markdown",
   "metadata": {},
   "source": [
    "A closer look at the map reveals that the Perlemoen bus stop belongs to BLAAUWBERGSTRAND, however suburb boundaries defined bin the Open Data Portal are not perfect."
   ]
  },
  {
   "cell_type": "code",
   "execution_count": 66,
   "metadata": {},
   "outputs": [],
   "source": [
    "df_bus_stops.iloc[364, 3] = 'BLAAUWBERGSTRAND'"
   ]
  },
  {
   "cell_type": "markdown",
   "metadata": {},
   "source": [
    "Let's visualise our dataset:"
   ]
  },
  {
   "cell_type": "code",
   "execution_count": 67,
   "metadata": {},
   "outputs": [],
   "source": [
    "m = folium.Map(location=[lat_ct, lon_ct], zoom_start=10)\n",
    "folium.TileLayer('cartodbpositron').add_to(m)\n",
    "folium.GeoJson('Official_Suburbs.geojson', name='geojson').add_to(m)\n",
    "for i, b in df_bus_stops.iterrows():\n",
    "    folium.Circle([b['lat'], b['lon']], radius=5, fill=False, color='red').add_to(m)\n",
    "m.save('Map 4 - Open Data Portal Bus Stops.html')"
   ]
  },
  {
   "cell_type": "markdown",
   "metadata": {},
   "source": [
    "This is a much better result, so we will stick with this dataset.  \n",
    "We already see the current extent of the MyCiTi network, and how much there is still to do to cover most of the city."
   ]
  },
  {
   "cell_type": "code",
   "execution_count": 68,
   "metadata": {},
   "outputs": [
    {
     "data": {
      "text/html": [
       "<div>\n",
       "<style scoped>\n",
       "    .dataframe tbody tr th:only-of-type {\n",
       "        vertical-align: middle;\n",
       "    }\n",
       "\n",
       "    .dataframe tbody tr th {\n",
       "        vertical-align: top;\n",
       "    }\n",
       "\n",
       "    .dataframe thead th {\n",
       "        text-align: right;\n",
       "    }\n",
       "</style>\n",
       "<table border=\"1\" class=\"dataframe\">\n",
       "  <thead>\n",
       "    <tr style=\"text-align: right;\">\n",
       "      <th></th>\n",
       "      <th>suburb</th>\n",
       "      <th>count</th>\n",
       "    </tr>\n",
       "  </thead>\n",
       "  <tbody>\n",
       "    <tr>\n",
       "      <th>0</th>\n",
       "      <td>MELKBOSCH STRAND</td>\n",
       "      <td>22</td>\n",
       "    </tr>\n",
       "    <tr>\n",
       "      <th>1</th>\n",
       "      <td>PARKLANDS</td>\n",
       "      <td>21</td>\n",
       "    </tr>\n",
       "    <tr>\n",
       "      <th>2</th>\n",
       "      <td>CAPE TOWN CITY CENTRE</td>\n",
       "      <td>21</td>\n",
       "    </tr>\n",
       "    <tr>\n",
       "      <th>3</th>\n",
       "      <td>CAMPS BAY / BAKOVEN</td>\n",
       "      <td>20</td>\n",
       "    </tr>\n",
       "    <tr>\n",
       "      <th>4</th>\n",
       "      <td>SEA POINT</td>\n",
       "      <td>20</td>\n",
       "    </tr>\n",
       "  </tbody>\n",
       "</table>\n",
       "</div>"
      ],
      "text/plain": [
       "                  suburb  count\n",
       "0       MELKBOSCH STRAND     22\n",
       "1              PARKLANDS     21\n",
       "2  CAPE TOWN CITY CENTRE     21\n",
       "3    CAMPS BAY / BAKOVEN     20\n",
       "4              SEA POINT     20"
      ]
     },
     "execution_count": 68,
     "metadata": {},
     "output_type": "execute_result"
    }
   ],
   "source": [
    "df_bus_stops_stats = df_bus_stops.groupby('suburb').suburb.agg('count').to_frame('count').sort_values('count', ascending=False).reset_index()\n",
    "df_bus_stops_stats.head()"
   ]
  },
  {
   "cell_type": "code",
   "execution_count": 69,
   "metadata": {},
   "outputs": [],
   "source": [
    "df_bus_stops_stats.to_csv('df_count_of_bus_stops_per_suburb.csv', index=False)"
   ]
  },
  {
   "cell_type": "markdown",
   "metadata": {},
   "source": [
    "### Property Valuations (Open Data Portal)"
   ]
  },
  {
   "cell_type": "markdown",
   "metadata": {},
   "source": [
    "We will now load the property valuations from the Open Data Portal, aiming to understand how many people live in a suburb and how wealthy the suburb is."
   ]
  },
  {
   "cell_type": "code",
   "execution_count": 70,
   "metadata": {},
   "outputs": [
    {
     "name": "stdout",
     "output_type": "stream",
     "text": [
      "Collecting xlrd\n",
      "\u001b[?25l  Downloading https://files.pythonhosted.org/packages/b0/16/63576a1a001752e34bf8ea62e367997530dc553b689356b9879339cf45a4/xlrd-1.2.0-py2.py3-none-any.whl (103kB)\n",
      "\u001b[K     |████████████████████████████████| 112kB 8.2MB/s eta 0:00:01\n",
      "\u001b[?25hInstalling collected packages: xlrd\n",
      "Successfully installed xlrd-1.2.0\n"
     ]
    }
   ],
   "source": [
    "!pip install xlrd\n",
    "import xlrd"
   ]
  },
  {
   "cell_type": "code",
   "execution_count": 71,
   "metadata": {},
   "outputs": [],
   "source": [
    "property_file = 'Number of properties by suburb and value Band.xlsx'"
   ]
  },
  {
   "cell_type": "code",
   "execution_count": 72,
   "metadata": {},
   "outputs": [],
   "source": [
    "df = pd.read_excel(open(property_file, 'rb'), header=1)"
   ]
  },
  {
   "cell_type": "code",
   "execution_count": 73,
   "metadata": {},
   "outputs": [
    {
     "data": {
      "text/html": [
       "<div>\n",
       "<style scoped>\n",
       "    .dataframe tbody tr th:only-of-type {\n",
       "        vertical-align: middle;\n",
       "    }\n",
       "\n",
       "    .dataframe tbody tr th {\n",
       "        vertical-align: top;\n",
       "    }\n",
       "\n",
       "    .dataframe thead th {\n",
       "        text-align: right;\n",
       "    }\n",
       "</style>\n",
       "<table border=\"1\" class=\"dataframe\">\n",
       "  <thead>\n",
       "    <tr style=\"text-align: right;\">\n",
       "      <th></th>\n",
       "      <th>Suburbs</th>\n",
       "      <th>0-200k</th>\n",
       "      <th>2-400k</th>\n",
       "      <th>4-600k</th>\n",
       "      <th>6-800k</th>\n",
       "      <th>800k-1M</th>\n",
       "      <th>1-1.5M</th>\n",
       "      <th>1.5-2M</th>\n",
       "      <th>2-2.5M</th>\n",
       "      <th>2.5-3M</th>\n",
       "      <th>...</th>\n",
       "      <th>60-70M</th>\n",
       "      <th>70-80M</th>\n",
       "      <th>80-90M</th>\n",
       "      <th>90-100M</th>\n",
       "      <th>100-200M</th>\n",
       "      <th>200-300M</th>\n",
       "      <th>300-400M</th>\n",
       "      <th>400-500M</th>\n",
       "      <th>&gt;500M</th>\n",
       "      <th>Unnamed: 37</th>\n",
       "    </tr>\n",
       "  </thead>\n",
       "  <tbody>\n",
       "    <tr>\n",
       "      <th>764</th>\n",
       "      <td>ZEVENWACHT RETIREMENT VILLAGE</td>\n",
       "      <td>NaN</td>\n",
       "      <td>NaN</td>\n",
       "      <td>NaN</td>\n",
       "      <td>NaN</td>\n",
       "      <td>NaN</td>\n",
       "      <td>NaN</td>\n",
       "      <td>NaN</td>\n",
       "      <td>NaN</td>\n",
       "      <td>NaN</td>\n",
       "      <td>...</td>\n",
       "      <td>NaN</td>\n",
       "      <td>NaN</td>\n",
       "      <td>NaN</td>\n",
       "      <td>NaN</td>\n",
       "      <td>NaN</td>\n",
       "      <td>NaN</td>\n",
       "      <td>NaN</td>\n",
       "      <td>NaN</td>\n",
       "      <td>NaN</td>\n",
       "      <td>2</td>\n",
       "    </tr>\n",
       "    <tr>\n",
       "      <th>765</th>\n",
       "      <td>ZEVENZICHT</td>\n",
       "      <td>5.0</td>\n",
       "      <td>NaN</td>\n",
       "      <td>NaN</td>\n",
       "      <td>2.0</td>\n",
       "      <td>2.0</td>\n",
       "      <td>40.0</td>\n",
       "      <td>78.0</td>\n",
       "      <td>23.0</td>\n",
       "      <td>11.0</td>\n",
       "      <td>...</td>\n",
       "      <td>NaN</td>\n",
       "      <td>NaN</td>\n",
       "      <td>NaN</td>\n",
       "      <td>NaN</td>\n",
       "      <td>NaN</td>\n",
       "      <td>NaN</td>\n",
       "      <td>NaN</td>\n",
       "      <td>NaN</td>\n",
       "      <td>NaN</td>\n",
       "      <td>164</td>\n",
       "    </tr>\n",
       "    <tr>\n",
       "      <th>766</th>\n",
       "      <td>ZONNEBLOEM</td>\n",
       "      <td>605.0</td>\n",
       "      <td>84.0</td>\n",
       "      <td>191.0</td>\n",
       "      <td>740.0</td>\n",
       "      <td>366.0</td>\n",
       "      <td>292.0</td>\n",
       "      <td>113.0</td>\n",
       "      <td>44.0</td>\n",
       "      <td>15.0</td>\n",
       "      <td>...</td>\n",
       "      <td>1.0</td>\n",
       "      <td>NaN</td>\n",
       "      <td>1.0</td>\n",
       "      <td>1.0</td>\n",
       "      <td>3.0</td>\n",
       "      <td>NaN</td>\n",
       "      <td>NaN</td>\n",
       "      <td>NaN</td>\n",
       "      <td>1.0</td>\n",
       "      <td>2638</td>\n",
       "    </tr>\n",
       "    <tr>\n",
       "      <th>767</th>\n",
       "      <td>ZOO PARK</td>\n",
       "      <td>2.0</td>\n",
       "      <td>1.0</td>\n",
       "      <td>NaN</td>\n",
       "      <td>53.0</td>\n",
       "      <td>240.0</td>\n",
       "      <td>82.0</td>\n",
       "      <td>1.0</td>\n",
       "      <td>1.0</td>\n",
       "      <td>1.0</td>\n",
       "      <td>...</td>\n",
       "      <td>NaN</td>\n",
       "      <td>NaN</td>\n",
       "      <td>NaN</td>\n",
       "      <td>NaN</td>\n",
       "      <td>NaN</td>\n",
       "      <td>NaN</td>\n",
       "      <td>NaN</td>\n",
       "      <td>NaN</td>\n",
       "      <td>NaN</td>\n",
       "      <td>382</td>\n",
       "    </tr>\n",
       "    <tr>\n",
       "      <th>768</th>\n",
       "      <td>Grand Total</td>\n",
       "      <td>183567.0</td>\n",
       "      <td>142189.0</td>\n",
       "      <td>106097.0</td>\n",
       "      <td>76128.0</td>\n",
       "      <td>61081.0</td>\n",
       "      <td>102280.0</td>\n",
       "      <td>59988.0</td>\n",
       "      <td>30603.0</td>\n",
       "      <td>20143.0</td>\n",
       "      <td>...</td>\n",
       "      <td>143.0</td>\n",
       "      <td>84.0</td>\n",
       "      <td>81.0</td>\n",
       "      <td>55.0</td>\n",
       "      <td>225.0</td>\n",
       "      <td>73.0</td>\n",
       "      <td>36.0</td>\n",
       "      <td>18.0</td>\n",
       "      <td>44.0</td>\n",
       "      <td>843454</td>\n",
       "    </tr>\n",
       "  </tbody>\n",
       "</table>\n",
       "<p>5 rows × 38 columns</p>\n",
       "</div>"
      ],
      "text/plain": [
       "                           Suburbs    0-200k    2-400k    4-600k   6-800k  \\\n",
       "764  ZEVENWACHT RETIREMENT VILLAGE       NaN       NaN       NaN      NaN   \n",
       "765                     ZEVENZICHT       5.0       NaN       NaN      2.0   \n",
       "766                     ZONNEBLOEM     605.0      84.0     191.0    740.0   \n",
       "767                       ZOO PARK       2.0       1.0       NaN     53.0   \n",
       "768                    Grand Total  183567.0  142189.0  106097.0  76128.0   \n",
       "\n",
       "     800k-1M    1-1.5M   1.5-2M   2-2.5M   2.5-3M  ...  60-70M  70-80M  \\\n",
       "764      NaN       NaN      NaN      NaN      NaN  ...     NaN     NaN   \n",
       "765      2.0      40.0     78.0     23.0     11.0  ...     NaN     NaN   \n",
       "766    366.0     292.0    113.0     44.0     15.0  ...     1.0     NaN   \n",
       "767    240.0      82.0      1.0      1.0      1.0  ...     NaN     NaN   \n",
       "768  61081.0  102280.0  59988.0  30603.0  20143.0  ...   143.0    84.0   \n",
       "\n",
       "     80-90M  90-100M  100-200M  200-300M  300-400M  400-500M  >500M  \\\n",
       "764     NaN      NaN       NaN       NaN       NaN       NaN    NaN   \n",
       "765     NaN      NaN       NaN       NaN       NaN       NaN    NaN   \n",
       "766     1.0      1.0       3.0       NaN       NaN       NaN    1.0   \n",
       "767     NaN      NaN       NaN       NaN       NaN       NaN    NaN   \n",
       "768    81.0     55.0     225.0      73.0      36.0      18.0   44.0   \n",
       "\n",
       "     Unnamed: 37  \n",
       "764            2  \n",
       "765          164  \n",
       "766         2638  \n",
       "767          382  \n",
       "768       843454  \n",
       "\n",
       "[5 rows x 38 columns]"
      ]
     },
     "execution_count": 73,
     "metadata": {},
     "output_type": "execute_result"
    }
   ],
   "source": [
    "df.tail()"
   ]
  },
  {
   "cell_type": "markdown",
   "metadata": {},
   "source": [
    "Let's drop the last row, the totals by valuation bracket:"
   ]
  },
  {
   "cell_type": "code",
   "execution_count": 74,
   "metadata": {},
   "outputs": [],
   "source": [
    "df = df.iloc[:-1, :]"
   ]
  },
  {
   "cell_type": "markdown",
   "metadata": {},
   "source": [
    "This dataset groups properties by suburb and value band."
   ]
  },
  {
   "cell_type": "markdown",
   "metadata": {},
   "source": [
    "We are planning to visualise this data at some point, therefore it is essential that the suburb names in the property valuations dataset match those in our suburbs dataset we extracted earlier."
   ]
  },
  {
   "cell_type": "markdown",
   "metadata": {},
   "source": [
    "First, we have found some simple misspellings and 1-to-1 mismappings, let's fix them:"
   ]
  },
  {
   "cell_type": "code",
   "execution_count": 75,
   "metadata": {},
   "outputs": [],
   "source": [
    "map_replacements = {\n",
    "    'BRENTWOOD PARK - Durbanville':'BRENTWOOD PARK - DURBANVILLE',\n",
    "    'DIEPRIVER': 'DIEP RIVER',\n",
    "    'EKUPHUMULENI': 'EKUPHUMLENI',\n",
    "    'ENKANINI INFORMAL SETTLEMENT': 'ENKANINI',\n",
    "    'KATAMUDA': 'KALAMUNDA',\n",
    "    'ONVERWACHT (Gordons Bay)': 'ONVERWACHT - GORDON\\'S BAY',\n",
    "    'ONVERWACHT': 'ONVERWACHT - THE STRAND',\n",
    "    'PINATI': 'PINATI ESTATE',\n",
    "    'PROTEAVALLEY': 'PROTEA VALLEY',\n",
    "    'SCHOTSCHEKLOOF': 'BO-KAAP',\n",
    "    'SEA BREEZ PARK': 'SEA BREEZE PARK',\n",
    "    'SILWERTOWN': 'SILVERTOWN - KHAYELITSHA',\n",
    "    'SIR LOWRYS PASS VILLAGE CENTRE': 'SIR LOWRY\\'S PASS VILLAGE CENTRE',\n",
    "    'SIR LOWRYS PASS': 'SIR LOWRY\\'S PASS',\n",
    "    'SUNVALLEY': 'SUN VALLEY',\n",
    "    'SURREY': 'SURREY ESTATE',\n",
    "    'VANGUARD': 'VANGUARD ESTATE',\n",
    "    'WELCOME': 'WELCOME ESTATE',\n",
    "    'ZEEKOEIVLEI': 'ZEEKOEVLEI',\n",
    "    'ZONNEBLOEM': 'DISTRICT SIX'\n",
    "}"
   ]
  },
  {
   "cell_type": "code",
   "execution_count": 76,
   "metadata": {},
   "outputs": [],
   "source": [
    "df.replace(map_replacements, inplace=True)"
   ]
  },
  {
   "cell_type": "markdown",
   "metadata": {},
   "source": [
    "Then there are pairs of valuations related to the same suburb, let's group the valuation data and sum it up:"
   ]
  },
  {
   "cell_type": "code",
   "execution_count": 77,
   "metadata": {},
   "outputs": [],
   "source": [
    "map_replacements = {\n",
    "    'AMANDA GLEN - Bellville': 'AMANDA GLEN ',\n",
    "    'AMANDA GLEN - Durbanville': 'AMANDA GLEN ',\n",
    "    'EVERSDAL - Bellville': 'EVERSDAL ',\n",
    "    'EVERSDAL - Durbanville': 'EVERSDAL ',\n",
    "    'KALKFONTEIN 1': 'KALKFONTEIN',\n",
    "    'KALKFONTEIN II': 'KALKFONTEIN',\n",
    "    'KENRIDGE - Bellville': 'KENRIDGE',\n",
    "    'KENRIDGE - Durbanville': 'KENRIDGE',\n",
    "    'CAPRI': 'SUNNYDALE'}"
   ]
  },
  {
   "cell_type": "code",
   "execution_count": 78,
   "metadata": {},
   "outputs": [],
   "source": [
    "df = df.replace(map_replacements).groupby('Suburbs').sum().reset_index()"
   ]
  },
  {
   "cell_type": "markdown",
   "metadata": {},
   "source": [
    "Finally, there are 6 suburbs in the valuation data that cannot be unambiguously mapped to a geographical suburb.   \n",
    "There is also 1 suburb that we cannot locate on the map at all, DEO GRACIA.  \n",
    "We will have to exclude all these from our analysis."
   ]
  },
  {
   "cell_type": "code",
   "execution_count": 79,
   "metadata": {},
   "outputs": [],
   "source": [
    "suburbs_to_drop = ['AVONDALE', 'PROTEA PARK', 'ROSEDALE', 'VREDENBERG', 'WESTRIDGE', 'WORLD\\'S VIEW', 'DEO GRACIA']\n",
    "df = df[~df['Suburbs'].isin(suburbs_to_drop)]"
   ]
  },
  {
   "cell_type": "code",
   "execution_count": 80,
   "metadata": {},
   "outputs": [
    {
     "data": {
      "text/html": [
       "<div>\n",
       "<style scoped>\n",
       "    .dataframe tbody tr th:only-of-type {\n",
       "        vertical-align: middle;\n",
       "    }\n",
       "\n",
       "    .dataframe tbody tr th {\n",
       "        vertical-align: top;\n",
       "    }\n",
       "\n",
       "    .dataframe thead th {\n",
       "        text-align: right;\n",
       "    }\n",
       "</style>\n",
       "<table border=\"1\" class=\"dataframe\">\n",
       "  <thead>\n",
       "    <tr style=\"text-align: right;\">\n",
       "      <th></th>\n",
       "      <th>Suburbs</th>\n",
       "      <th>0-200k</th>\n",
       "      <th>2-400k</th>\n",
       "      <th>4-600k</th>\n",
       "      <th>6-800k</th>\n",
       "      <th>800k-1M</th>\n",
       "      <th>1-1.5M</th>\n",
       "      <th>1.5-2M</th>\n",
       "      <th>2-2.5M</th>\n",
       "      <th>2.5-3M</th>\n",
       "      <th>...</th>\n",
       "      <th>60-70M</th>\n",
       "      <th>70-80M</th>\n",
       "      <th>80-90M</th>\n",
       "      <th>90-100M</th>\n",
       "      <th>100-200M</th>\n",
       "      <th>200-300M</th>\n",
       "      <th>300-400M</th>\n",
       "      <th>400-500M</th>\n",
       "      <th>&gt;500M</th>\n",
       "      <th>Unnamed: 37</th>\n",
       "    </tr>\n",
       "  </thead>\n",
       "  <tbody>\n",
       "    <tr>\n",
       "      <th>0</th>\n",
       "      <td>ACACIA PARK</td>\n",
       "      <td>4.0</td>\n",
       "      <td>0.0</td>\n",
       "      <td>0.0</td>\n",
       "      <td>0.0</td>\n",
       "      <td>0.0</td>\n",
       "      <td>0.0</td>\n",
       "      <td>0.0</td>\n",
       "      <td>0.0</td>\n",
       "      <td>0.0</td>\n",
       "      <td>...</td>\n",
       "      <td>0.0</td>\n",
       "      <td>0.0</td>\n",
       "      <td>0.0</td>\n",
       "      <td>0.0</td>\n",
       "      <td>0.0</td>\n",
       "      <td>3.0</td>\n",
       "      <td>1.0</td>\n",
       "      <td>0.0</td>\n",
       "      <td>0.0</td>\n",
       "      <td>11</td>\n",
       "    </tr>\n",
       "    <tr>\n",
       "      <th>1</th>\n",
       "      <td>ADMIRALS PARK</td>\n",
       "      <td>8.0</td>\n",
       "      <td>27.0</td>\n",
       "      <td>50.0</td>\n",
       "      <td>207.0</td>\n",
       "      <td>94.0</td>\n",
       "      <td>60.0</td>\n",
       "      <td>3.0</td>\n",
       "      <td>0.0</td>\n",
       "      <td>0.0</td>\n",
       "      <td>...</td>\n",
       "      <td>0.0</td>\n",
       "      <td>0.0</td>\n",
       "      <td>0.0</td>\n",
       "      <td>0.0</td>\n",
       "      <td>0.0</td>\n",
       "      <td>0.0</td>\n",
       "      <td>0.0</td>\n",
       "      <td>0.0</td>\n",
       "      <td>0.0</td>\n",
       "      <td>449</td>\n",
       "    </tr>\n",
       "    <tr>\n",
       "      <th>2</th>\n",
       "      <td>ADRIAANSE</td>\n",
       "      <td>8.0</td>\n",
       "      <td>11.0</td>\n",
       "      <td>377.0</td>\n",
       "      <td>3.0</td>\n",
       "      <td>2.0</td>\n",
       "      <td>5.0</td>\n",
       "      <td>2.0</td>\n",
       "      <td>1.0</td>\n",
       "      <td>0.0</td>\n",
       "      <td>...</td>\n",
       "      <td>0.0</td>\n",
       "      <td>0.0</td>\n",
       "      <td>0.0</td>\n",
       "      <td>0.0</td>\n",
       "      <td>0.0</td>\n",
       "      <td>0.0</td>\n",
       "      <td>0.0</td>\n",
       "      <td>0.0</td>\n",
       "      <td>0.0</td>\n",
       "      <td>422</td>\n",
       "    </tr>\n",
       "    <tr>\n",
       "      <th>3</th>\n",
       "      <td>AIRPORT CITY</td>\n",
       "      <td>8.0</td>\n",
       "      <td>1.0</td>\n",
       "      <td>7.0</td>\n",
       "      <td>16.0</td>\n",
       "      <td>13.0</td>\n",
       "      <td>15.0</td>\n",
       "      <td>9.0</td>\n",
       "      <td>9.0</td>\n",
       "      <td>7.0</td>\n",
       "      <td>...</td>\n",
       "      <td>1.0</td>\n",
       "      <td>1.0</td>\n",
       "      <td>0.0</td>\n",
       "      <td>0.0</td>\n",
       "      <td>0.0</td>\n",
       "      <td>0.0</td>\n",
       "      <td>0.0</td>\n",
       "      <td>0.0</td>\n",
       "      <td>0.0</td>\n",
       "      <td>160</td>\n",
       "    </tr>\n",
       "    <tr>\n",
       "      <th>4</th>\n",
       "      <td>AMANDA GLEN</td>\n",
       "      <td>11.0</td>\n",
       "      <td>0.0</td>\n",
       "      <td>6.0</td>\n",
       "      <td>7.0</td>\n",
       "      <td>79.0</td>\n",
       "      <td>27.0</td>\n",
       "      <td>208.0</td>\n",
       "      <td>116.0</td>\n",
       "      <td>19.0</td>\n",
       "      <td>...</td>\n",
       "      <td>0.0</td>\n",
       "      <td>0.0</td>\n",
       "      <td>0.0</td>\n",
       "      <td>0.0</td>\n",
       "      <td>0.0</td>\n",
       "      <td>0.0</td>\n",
       "      <td>0.0</td>\n",
       "      <td>0.0</td>\n",
       "      <td>0.0</td>\n",
       "      <td>484</td>\n",
       "    </tr>\n",
       "  </tbody>\n",
       "</table>\n",
       "<p>5 rows × 38 columns</p>\n",
       "</div>"
      ],
      "text/plain": [
       "         Suburbs  0-200k  2-400k  4-600k  6-800k  800k-1M  1-1.5M  1.5-2M  \\\n",
       "0    ACACIA PARK     4.0     0.0     0.0     0.0      0.0     0.0     0.0   \n",
       "1  ADMIRALS PARK     8.0    27.0    50.0   207.0     94.0    60.0     3.0   \n",
       "2      ADRIAANSE     8.0    11.0   377.0     3.0      2.0     5.0     2.0   \n",
       "3   AIRPORT CITY     8.0     1.0     7.0    16.0     13.0    15.0     9.0   \n",
       "4   AMANDA GLEN     11.0     0.0     6.0     7.0     79.0    27.0   208.0   \n",
       "\n",
       "   2-2.5M  2.5-3M  ...  60-70M  70-80M  80-90M  90-100M  100-200M  200-300M  \\\n",
       "0     0.0     0.0  ...     0.0     0.0     0.0      0.0       0.0       3.0   \n",
       "1     0.0     0.0  ...     0.0     0.0     0.0      0.0       0.0       0.0   \n",
       "2     1.0     0.0  ...     0.0     0.0     0.0      0.0       0.0       0.0   \n",
       "3     9.0     7.0  ...     1.0     1.0     0.0      0.0       0.0       0.0   \n",
       "4   116.0    19.0  ...     0.0     0.0     0.0      0.0       0.0       0.0   \n",
       "\n",
       "   300-400M  400-500M  >500M  Unnamed: 37  \n",
       "0       1.0       0.0    0.0           11  \n",
       "1       0.0       0.0    0.0          449  \n",
       "2       0.0       0.0    0.0          422  \n",
       "3       0.0       0.0    0.0          160  \n",
       "4       0.0       0.0    0.0          484  \n",
       "\n",
       "[5 rows x 38 columns]"
      ]
     },
     "execution_count": 80,
     "metadata": {},
     "output_type": "execute_result"
    }
   ],
   "source": [
    "df.head()"
   ]
  },
  {
   "cell_type": "markdown",
   "metadata": {},
   "source": [
    "Following some further analysis we have come to the conclusion that the dataset includes both residential and industrial properties such as warehouses, which ideally we want to filter out.  \n",
    "For this reason we will make the following changes:\n",
    " - Exclude all properties valued at more than ZAR 200M, as they are likely to be industrial\n",
    " - Exclude suburbs with less than 300 properties (while they may have a need in public transportation, they are likely to be of a lower priority comparing to more populous suburbs)\n",
    " - Exclude suburbs containing FARM in their name (except SPANISH FARM, which is a residential suburb)\n",
    " - Exclude suburbs containing INDUSTRIA in their name, and a few others known to be an industrial area or a shopping mall\n",
    "\n",
    "We also need to re-calculate the totals by suburb."
   ]
  },
  {
   "cell_type": "code",
   "execution_count": 81,
   "metadata": {},
   "outputs": [],
   "source": [
    "df = df.iloc[:, :-5]\n",
    "df['total'] = df.sum(axis=1)\n",
    "indices_to_drop = df[(df['total'] < 300) |\n",
    "                     (df['Suburbs'].str.contains('FARM', case=False) & ~(df['Suburbs'] == 'SPANISH FARM')) |\n",
    "                     df['Suburbs'].str.contains('INDUSTRIA', case=False) |\n",
    "                     (df['Suburbs'] == 'PAARDEN EILAND') |  # a well-known industrial area\n",
    "                     (df['Suburbs'] == 'MONTAGUE GARDENS') |  # another industrial area\n",
    "                     (df['Suburbs'] == 'TYGERVALLEY')].index  # a shopping mall\n",
    "df.drop(indices_to_drop, inplace=True)"
   ]
  },
  {
   "cell_type": "code",
   "execution_count": 82,
   "metadata": {},
   "outputs": [
    {
     "data": {
      "text/html": [
       "<div>\n",
       "<style scoped>\n",
       "    .dataframe tbody tr th:only-of-type {\n",
       "        vertical-align: middle;\n",
       "    }\n",
       "\n",
       "    .dataframe tbody tr th {\n",
       "        vertical-align: top;\n",
       "    }\n",
       "\n",
       "    .dataframe thead th {\n",
       "        text-align: right;\n",
       "    }\n",
       "</style>\n",
       "<table border=\"1\" class=\"dataframe\">\n",
       "  <thead>\n",
       "    <tr style=\"text-align: right;\">\n",
       "      <th></th>\n",
       "      <th>Suburbs</th>\n",
       "      <th>0-200k</th>\n",
       "      <th>2-400k</th>\n",
       "      <th>4-600k</th>\n",
       "      <th>6-800k</th>\n",
       "      <th>800k-1M</th>\n",
       "      <th>1-1.5M</th>\n",
       "      <th>1.5-2M</th>\n",
       "      <th>2-2.5M</th>\n",
       "      <th>2.5-3M</th>\n",
       "      <th>...</th>\n",
       "      <th>35-40M</th>\n",
       "      <th>40-45M</th>\n",
       "      <th>45-50M</th>\n",
       "      <th>50-60M</th>\n",
       "      <th>60-70M</th>\n",
       "      <th>70-80M</th>\n",
       "      <th>80-90M</th>\n",
       "      <th>90-100M</th>\n",
       "      <th>100-200M</th>\n",
       "      <th>total</th>\n",
       "    </tr>\n",
       "  </thead>\n",
       "  <tbody>\n",
       "    <tr>\n",
       "      <th>1</th>\n",
       "      <td>ADMIRALS PARK</td>\n",
       "      <td>8.0</td>\n",
       "      <td>27.0</td>\n",
       "      <td>50.0</td>\n",
       "      <td>207.0</td>\n",
       "      <td>94.0</td>\n",
       "      <td>60.0</td>\n",
       "      <td>3.0</td>\n",
       "      <td>0.0</td>\n",
       "      <td>0.0</td>\n",
       "      <td>...</td>\n",
       "      <td>0.0</td>\n",
       "      <td>0.0</td>\n",
       "      <td>0.0</td>\n",
       "      <td>0.0</td>\n",
       "      <td>0.0</td>\n",
       "      <td>0.0</td>\n",
       "      <td>0.0</td>\n",
       "      <td>0.0</td>\n",
       "      <td>0.0</td>\n",
       "      <td>449.0</td>\n",
       "    </tr>\n",
       "    <tr>\n",
       "      <th>2</th>\n",
       "      <td>ADRIAANSE</td>\n",
       "      <td>8.0</td>\n",
       "      <td>11.0</td>\n",
       "      <td>377.0</td>\n",
       "      <td>3.0</td>\n",
       "      <td>2.0</td>\n",
       "      <td>5.0</td>\n",
       "      <td>2.0</td>\n",
       "      <td>1.0</td>\n",
       "      <td>0.0</td>\n",
       "      <td>...</td>\n",
       "      <td>0.0</td>\n",
       "      <td>0.0</td>\n",
       "      <td>0.0</td>\n",
       "      <td>0.0</td>\n",
       "      <td>0.0</td>\n",
       "      <td>0.0</td>\n",
       "      <td>0.0</td>\n",
       "      <td>0.0</td>\n",
       "      <td>0.0</td>\n",
       "      <td>422.0</td>\n",
       "    </tr>\n",
       "    <tr>\n",
       "      <th>4</th>\n",
       "      <td>AMANDA GLEN</td>\n",
       "      <td>11.0</td>\n",
       "      <td>0.0</td>\n",
       "      <td>6.0</td>\n",
       "      <td>7.0</td>\n",
       "      <td>79.0</td>\n",
       "      <td>27.0</td>\n",
       "      <td>208.0</td>\n",
       "      <td>116.0</td>\n",
       "      <td>19.0</td>\n",
       "      <td>...</td>\n",
       "      <td>0.0</td>\n",
       "      <td>0.0</td>\n",
       "      <td>0.0</td>\n",
       "      <td>0.0</td>\n",
       "      <td>0.0</td>\n",
       "      <td>0.0</td>\n",
       "      <td>0.0</td>\n",
       "      <td>0.0</td>\n",
       "      <td>0.0</td>\n",
       "      <td>484.0</td>\n",
       "    </tr>\n",
       "    <tr>\n",
       "      <th>5</th>\n",
       "      <td>AMANDELRUG</td>\n",
       "      <td>1.0</td>\n",
       "      <td>1.0</td>\n",
       "      <td>0.0</td>\n",
       "      <td>21.0</td>\n",
       "      <td>48.0</td>\n",
       "      <td>133.0</td>\n",
       "      <td>148.0</td>\n",
       "      <td>0.0</td>\n",
       "      <td>1.0</td>\n",
       "      <td>...</td>\n",
       "      <td>0.0</td>\n",
       "      <td>0.0</td>\n",
       "      <td>0.0</td>\n",
       "      <td>0.0</td>\n",
       "      <td>0.0</td>\n",
       "      <td>0.0</td>\n",
       "      <td>0.0</td>\n",
       "      <td>0.0</td>\n",
       "      <td>0.0</td>\n",
       "      <td>354.0</td>\n",
       "    </tr>\n",
       "    <tr>\n",
       "      <th>6</th>\n",
       "      <td>AMANDELSIG</td>\n",
       "      <td>116.0</td>\n",
       "      <td>0.0</td>\n",
       "      <td>2.0</td>\n",
       "      <td>84.0</td>\n",
       "      <td>113.0</td>\n",
       "      <td>156.0</td>\n",
       "      <td>65.0</td>\n",
       "      <td>3.0</td>\n",
       "      <td>0.0</td>\n",
       "      <td>...</td>\n",
       "      <td>0.0</td>\n",
       "      <td>0.0</td>\n",
       "      <td>0.0</td>\n",
       "      <td>0.0</td>\n",
       "      <td>1.0</td>\n",
       "      <td>0.0</td>\n",
       "      <td>0.0</td>\n",
       "      <td>0.0</td>\n",
       "      <td>0.0</td>\n",
       "      <td>543.0</td>\n",
       "    </tr>\n",
       "  </tbody>\n",
       "</table>\n",
       "<p>5 rows × 34 columns</p>\n",
       "</div>"
      ],
      "text/plain": [
       "         Suburbs  0-200k  2-400k  4-600k  6-800k  800k-1M  1-1.5M  1.5-2M  \\\n",
       "1  ADMIRALS PARK     8.0    27.0    50.0   207.0     94.0    60.0     3.0   \n",
       "2      ADRIAANSE     8.0    11.0   377.0     3.0      2.0     5.0     2.0   \n",
       "4   AMANDA GLEN     11.0     0.0     6.0     7.0     79.0    27.0   208.0   \n",
       "5     AMANDELRUG     1.0     1.0     0.0    21.0     48.0   133.0   148.0   \n",
       "6     AMANDELSIG   116.0     0.0     2.0    84.0    113.0   156.0    65.0   \n",
       "\n",
       "   2-2.5M  2.5-3M  ...  35-40M  40-45M  45-50M  50-60M  60-70M  70-80M  \\\n",
       "1     0.0     0.0  ...     0.0     0.0     0.0     0.0     0.0     0.0   \n",
       "2     1.0     0.0  ...     0.0     0.0     0.0     0.0     0.0     0.0   \n",
       "4   116.0    19.0  ...     0.0     0.0     0.0     0.0     0.0     0.0   \n",
       "5     0.0     1.0  ...     0.0     0.0     0.0     0.0     0.0     0.0   \n",
       "6     3.0     0.0  ...     0.0     0.0     0.0     0.0     1.0     0.0   \n",
       "\n",
       "   80-90M  90-100M  100-200M  total  \n",
       "1     0.0      0.0       0.0  449.0  \n",
       "2     0.0      0.0       0.0  422.0  \n",
       "4     0.0      0.0       0.0  484.0  \n",
       "5     0.0      0.0       0.0  354.0  \n",
       "6     0.0      0.0       0.0  543.0  \n",
       "\n",
       "[5 rows x 34 columns]"
      ]
     },
     "execution_count": 82,
     "metadata": {},
     "output_type": "execute_result"
    }
   ],
   "source": [
    "df.head()"
   ]
  },
  {
   "cell_type": "markdown",
   "metadata": {},
   "source": [
    "Let's visualise the total number of properties (and therefore the number of residents) on a map:"
   ]
  },
  {
   "cell_type": "code",
   "execution_count": 86,
   "metadata": {},
   "outputs": [],
   "source": [
    "m = folium.Map(location=[lat_ct, lon_ct], zoom_start=10)\n",
    "folium.TileLayer('cartodbpositron').add_to(m)\n",
    "#folium.GeoJson('Official_Suburbs.geojson', name='geojson').add_to(m)\n",
    "m.choropleth(\n",
    "    geo_data='Official_Suburbs.geojson',\n",
    "    name='choropleth',\n",
    "    data=df,\n",
    "    columns=['Suburbs', 'total'],\n",
    "    key_on='feature.properties.OFC_SBRB_NAME',\n",
    "    fill_color='YlGn',\n",
    "    fill_opacity=0.7,\n",
    "    line_opacity=0.2,\n",
    "    legend_name='Number of Properties'\n",
    ")\n",
    "for i, b in df_bus_stops.iterrows():\n",
    "    folium.Circle([b['lat'], b['lon']], radius=5, fill=False, color='red').add_to(m)\n",
    "m.save('Map 5 - Most Populous Suburbs.html')"
   ]
  },
  {
   "cell_type": "code",
   "execution_count": 87,
   "metadata": {},
   "outputs": [
    {
     "data": {
      "text/html": [
       "<div>\n",
       "<style scoped>\n",
       "    .dataframe tbody tr th:only-of-type {\n",
       "        vertical-align: middle;\n",
       "    }\n",
       "\n",
       "    .dataframe tbody tr th {\n",
       "        vertical-align: top;\n",
       "    }\n",
       "\n",
       "    .dataframe thead th {\n",
       "        text-align: right;\n",
       "    }\n",
       "</style>\n",
       "<table border=\"1\" class=\"dataframe\">\n",
       "  <thead>\n",
       "    <tr style=\"text-align: right;\">\n",
       "      <th></th>\n",
       "      <th>Suburbs</th>\n",
       "      <th>0-200k</th>\n",
       "      <th>2-400k</th>\n",
       "      <th>4-600k</th>\n",
       "      <th>6-800k</th>\n",
       "      <th>800k-1M</th>\n",
       "      <th>1-1.5M</th>\n",
       "      <th>1.5-2M</th>\n",
       "      <th>2-2.5M</th>\n",
       "      <th>2.5-3M</th>\n",
       "      <th>...</th>\n",
       "      <th>35-40M</th>\n",
       "      <th>40-45M</th>\n",
       "      <th>45-50M</th>\n",
       "      <th>50-60M</th>\n",
       "      <th>60-70M</th>\n",
       "      <th>70-80M</th>\n",
       "      <th>80-90M</th>\n",
       "      <th>90-100M</th>\n",
       "      <th>100-200M</th>\n",
       "      <th>total</th>\n",
       "    </tr>\n",
       "  </thead>\n",
       "  <tbody>\n",
       "    <tr>\n",
       "      <th>521</th>\n",
       "      <td>PHILIPPI</td>\n",
       "      <td>14996.0</td>\n",
       "      <td>4510.0</td>\n",
       "      <td>462.0</td>\n",
       "      <td>210.0</td>\n",
       "      <td>204.0</td>\n",
       "      <td>236.0</td>\n",
       "      <td>174.0</td>\n",
       "      <td>123.0</td>\n",
       "      <td>95.0</td>\n",
       "      <td>...</td>\n",
       "      <td>2.0</td>\n",
       "      <td>6.0</td>\n",
       "      <td>0.0</td>\n",
       "      <td>3.0</td>\n",
       "      <td>0.0</td>\n",
       "      <td>0.0</td>\n",
       "      <td>0.0</td>\n",
       "      <td>0.0</td>\n",
       "      <td>3.0</td>\n",
       "      <td>21318.0</td>\n",
       "    </tr>\n",
       "    <tr>\n",
       "      <th>644</th>\n",
       "      <td>STRAND</td>\n",
       "      <td>1416.0</td>\n",
       "      <td>2514.0</td>\n",
       "      <td>1460.0</td>\n",
       "      <td>1655.0</td>\n",
       "      <td>1075.0</td>\n",
       "      <td>3079.0</td>\n",
       "      <td>1273.0</td>\n",
       "      <td>348.0</td>\n",
       "      <td>195.0</td>\n",
       "      <td>...</td>\n",
       "      <td>2.0</td>\n",
       "      <td>0.0</td>\n",
       "      <td>2.0</td>\n",
       "      <td>2.0</td>\n",
       "      <td>1.0</td>\n",
       "      <td>0.0</td>\n",
       "      <td>1.0</td>\n",
       "      <td>1.0</td>\n",
       "      <td>2.0</td>\n",
       "      <td>13300.0</td>\n",
       "    </tr>\n",
       "    <tr>\n",
       "      <th>590</th>\n",
       "      <td>SEA POINT</td>\n",
       "      <td>3947.0</td>\n",
       "      <td>29.0</td>\n",
       "      <td>184.0</td>\n",
       "      <td>306.0</td>\n",
       "      <td>736.0</td>\n",
       "      <td>1492.0</td>\n",
       "      <td>1457.0</td>\n",
       "      <td>1089.0</td>\n",
       "      <td>814.0</td>\n",
       "      <td>...</td>\n",
       "      <td>5.0</td>\n",
       "      <td>2.0</td>\n",
       "      <td>0.0</td>\n",
       "      <td>5.0</td>\n",
       "      <td>4.0</td>\n",
       "      <td>1.0</td>\n",
       "      <td>3.0</td>\n",
       "      <td>1.0</td>\n",
       "      <td>4.0</td>\n",
       "      <td>12326.0</td>\n",
       "    </tr>\n",
       "    <tr>\n",
       "      <th>500</th>\n",
       "      <td>PARKLANDS</td>\n",
       "      <td>639.0</td>\n",
       "      <td>310.0</td>\n",
       "      <td>2370.0</td>\n",
       "      <td>1590.0</td>\n",
       "      <td>1397.0</td>\n",
       "      <td>3414.0</td>\n",
       "      <td>1000.0</td>\n",
       "      <td>273.0</td>\n",
       "      <td>103.0</td>\n",
       "      <td>...</td>\n",
       "      <td>4.0</td>\n",
       "      <td>4.0</td>\n",
       "      <td>2.0</td>\n",
       "      <td>1.0</td>\n",
       "      <td>2.0</td>\n",
       "      <td>0.0</td>\n",
       "      <td>0.0</td>\n",
       "      <td>1.0</td>\n",
       "      <td>1.0</td>\n",
       "      <td>11225.0</td>\n",
       "    </tr>\n",
       "    <tr>\n",
       "      <th>132</th>\n",
       "      <td>CAPE TOWN CITY CENTRE</td>\n",
       "      <td>4172.0</td>\n",
       "      <td>249.0</td>\n",
       "      <td>325.0</td>\n",
       "      <td>720.0</td>\n",
       "      <td>613.0</td>\n",
       "      <td>1265.0</td>\n",
       "      <td>957.0</td>\n",
       "      <td>509.0</td>\n",
       "      <td>302.0</td>\n",
       "      <td>...</td>\n",
       "      <td>18.0</td>\n",
       "      <td>13.0</td>\n",
       "      <td>12.0</td>\n",
       "      <td>19.0</td>\n",
       "      <td>8.0</td>\n",
       "      <td>11.0</td>\n",
       "      <td>12.0</td>\n",
       "      <td>2.0</td>\n",
       "      <td>39.0</td>\n",
       "      <td>10325.0</td>\n",
       "    </tr>\n",
       "  </tbody>\n",
       "</table>\n",
       "<p>5 rows × 34 columns</p>\n",
       "</div>"
      ],
      "text/plain": [
       "                   Suburbs   0-200k  2-400k  4-600k  6-800k  800k-1M  1-1.5M  \\\n",
       "521               PHILIPPI  14996.0  4510.0   462.0   210.0    204.0   236.0   \n",
       "644                 STRAND   1416.0  2514.0  1460.0  1655.0   1075.0  3079.0   \n",
       "590              SEA POINT   3947.0    29.0   184.0   306.0    736.0  1492.0   \n",
       "500              PARKLANDS    639.0   310.0  2370.0  1590.0   1397.0  3414.0   \n",
       "132  CAPE TOWN CITY CENTRE   4172.0   249.0   325.0   720.0    613.0  1265.0   \n",
       "\n",
       "     1.5-2M  2-2.5M  2.5-3M  ...  35-40M  40-45M  45-50M  50-60M  60-70M  \\\n",
       "521   174.0   123.0    95.0  ...     2.0     6.0     0.0     3.0     0.0   \n",
       "644  1273.0   348.0   195.0  ...     2.0     0.0     2.0     2.0     1.0   \n",
       "590  1457.0  1089.0   814.0  ...     5.0     2.0     0.0     5.0     4.0   \n",
       "500  1000.0   273.0   103.0  ...     4.0     4.0     2.0     1.0     2.0   \n",
       "132   957.0   509.0   302.0  ...    18.0    13.0    12.0    19.0     8.0   \n",
       "\n",
       "     70-80M  80-90M  90-100M  100-200M    total  \n",
       "521     0.0     0.0      0.0       3.0  21318.0  \n",
       "644     0.0     1.0      1.0       2.0  13300.0  \n",
       "590     1.0     3.0      1.0       4.0  12326.0  \n",
       "500     0.0     0.0      1.0       1.0  11225.0  \n",
       "132    11.0    12.0      2.0      39.0  10325.0  \n",
       "\n",
       "[5 rows x 34 columns]"
      ]
     },
     "execution_count": 87,
     "metadata": {},
     "output_type": "execute_result"
    }
   ],
   "source": [
    "df.sort_values('total', ascending=False, inplace=True)\n",
    "df.head()"
   ]
  },
  {
   "cell_type": "markdown",
   "metadata": {},
   "source": [
    "Looking at the map and sorting the dataset by total we immediately see that something interesting could be done about PHILIPPI and STRAND, which are currently not served by MyCiTi.  \n",
    "On the opposite, SEA POINT and PARKLANDS are among the most populous suburbs, but both already have a MyCiTi service."
   ]
  },
  {
   "cell_type": "markdown",
   "metadata": {},
   "source": [
    "Let's now cluster the suburbs to get an idea of the residents' wealth."
   ]
  },
  {
   "cell_type": "code",
   "execution_count": 88,
   "metadata": {},
   "outputs": [
    {
     "data": {
      "text/html": [
       "<div>\n",
       "<style scoped>\n",
       "    .dataframe tbody tr th:only-of-type {\n",
       "        vertical-align: middle;\n",
       "    }\n",
       "\n",
       "    .dataframe tbody tr th {\n",
       "        vertical-align: top;\n",
       "    }\n",
       "\n",
       "    .dataframe thead th {\n",
       "        text-align: right;\n",
       "    }\n",
       "</style>\n",
       "<table border=\"1\" class=\"dataframe\">\n",
       "  <thead>\n",
       "    <tr style=\"text-align: right;\">\n",
       "      <th></th>\n",
       "      <th>Suburbs</th>\n",
       "      <th>0-200k</th>\n",
       "      <th>2-400k</th>\n",
       "      <th>4-600k</th>\n",
       "      <th>6-800k</th>\n",
       "      <th>800k-1M</th>\n",
       "      <th>1-1.5M</th>\n",
       "      <th>1.5-2M</th>\n",
       "      <th>2-2.5M</th>\n",
       "      <th>2.5-3M</th>\n",
       "      <th>...</th>\n",
       "      <th>30-35M</th>\n",
       "      <th>35-40M</th>\n",
       "      <th>40-45M</th>\n",
       "      <th>45-50M</th>\n",
       "      <th>50-60M</th>\n",
       "      <th>60-70M</th>\n",
       "      <th>70-80M</th>\n",
       "      <th>80-90M</th>\n",
       "      <th>90-100M</th>\n",
       "      <th>100-200M</th>\n",
       "    </tr>\n",
       "  </thead>\n",
       "  <tbody>\n",
       "    <tr>\n",
       "      <th>521</th>\n",
       "      <td>PHILIPPI</td>\n",
       "      <td>0.703443</td>\n",
       "      <td>0.211558</td>\n",
       "      <td>0.021672</td>\n",
       "      <td>0.009851</td>\n",
       "      <td>0.009569</td>\n",
       "      <td>0.011070</td>\n",
       "      <td>0.008162</td>\n",
       "      <td>0.005770</td>\n",
       "      <td>0.004456</td>\n",
       "      <td>...</td>\n",
       "      <td>0.000094</td>\n",
       "      <td>0.000094</td>\n",
       "      <td>0.000281</td>\n",
       "      <td>0.000000</td>\n",
       "      <td>0.000141</td>\n",
       "      <td>0.000000</td>\n",
       "      <td>0.000000</td>\n",
       "      <td>0.000000</td>\n",
       "      <td>0.000000</td>\n",
       "      <td>0.000141</td>\n",
       "    </tr>\n",
       "    <tr>\n",
       "      <th>644</th>\n",
       "      <td>STRAND</td>\n",
       "      <td>0.106466</td>\n",
       "      <td>0.189023</td>\n",
       "      <td>0.109774</td>\n",
       "      <td>0.124436</td>\n",
       "      <td>0.080827</td>\n",
       "      <td>0.231504</td>\n",
       "      <td>0.095714</td>\n",
       "      <td>0.026165</td>\n",
       "      <td>0.014662</td>\n",
       "      <td>...</td>\n",
       "      <td>0.000376</td>\n",
       "      <td>0.000150</td>\n",
       "      <td>0.000000</td>\n",
       "      <td>0.000150</td>\n",
       "      <td>0.000150</td>\n",
       "      <td>0.000075</td>\n",
       "      <td>0.000000</td>\n",
       "      <td>0.000075</td>\n",
       "      <td>0.000075</td>\n",
       "      <td>0.000150</td>\n",
       "    </tr>\n",
       "    <tr>\n",
       "      <th>590</th>\n",
       "      <td>SEA POINT</td>\n",
       "      <td>0.320217</td>\n",
       "      <td>0.002353</td>\n",
       "      <td>0.014928</td>\n",
       "      <td>0.024826</td>\n",
       "      <td>0.059711</td>\n",
       "      <td>0.121045</td>\n",
       "      <td>0.118205</td>\n",
       "      <td>0.088350</td>\n",
       "      <td>0.066039</td>\n",
       "      <td>...</td>\n",
       "      <td>0.000568</td>\n",
       "      <td>0.000406</td>\n",
       "      <td>0.000162</td>\n",
       "      <td>0.000000</td>\n",
       "      <td>0.000406</td>\n",
       "      <td>0.000325</td>\n",
       "      <td>0.000081</td>\n",
       "      <td>0.000243</td>\n",
       "      <td>0.000081</td>\n",
       "      <td>0.000325</td>\n",
       "    </tr>\n",
       "    <tr>\n",
       "      <th>500</th>\n",
       "      <td>PARKLANDS</td>\n",
       "      <td>0.056927</td>\n",
       "      <td>0.027617</td>\n",
       "      <td>0.211136</td>\n",
       "      <td>0.141648</td>\n",
       "      <td>0.124454</td>\n",
       "      <td>0.304143</td>\n",
       "      <td>0.089087</td>\n",
       "      <td>0.024321</td>\n",
       "      <td>0.009176</td>\n",
       "      <td>...</td>\n",
       "      <td>0.000356</td>\n",
       "      <td>0.000356</td>\n",
       "      <td>0.000356</td>\n",
       "      <td>0.000178</td>\n",
       "      <td>0.000089</td>\n",
       "      <td>0.000178</td>\n",
       "      <td>0.000000</td>\n",
       "      <td>0.000000</td>\n",
       "      <td>0.000089</td>\n",
       "      <td>0.000089</td>\n",
       "    </tr>\n",
       "    <tr>\n",
       "      <th>132</th>\n",
       "      <td>CAPE TOWN CITY CENTRE</td>\n",
       "      <td>0.404068</td>\n",
       "      <td>0.024116</td>\n",
       "      <td>0.031477</td>\n",
       "      <td>0.069734</td>\n",
       "      <td>0.059370</td>\n",
       "      <td>0.122518</td>\n",
       "      <td>0.092688</td>\n",
       "      <td>0.049298</td>\n",
       "      <td>0.029249</td>\n",
       "      <td>...</td>\n",
       "      <td>0.001840</td>\n",
       "      <td>0.001743</td>\n",
       "      <td>0.001259</td>\n",
       "      <td>0.001162</td>\n",
       "      <td>0.001840</td>\n",
       "      <td>0.000775</td>\n",
       "      <td>0.001065</td>\n",
       "      <td>0.001162</td>\n",
       "      <td>0.000194</td>\n",
       "      <td>0.003777</td>\n",
       "    </tr>\n",
       "  </tbody>\n",
       "</table>\n",
       "<p>5 rows × 33 columns</p>\n",
       "</div>"
      ],
      "text/plain": [
       "                   Suburbs    0-200k    2-400k    4-600k    6-800k   800k-1M  \\\n",
       "521               PHILIPPI  0.703443  0.211558  0.021672  0.009851  0.009569   \n",
       "644                 STRAND  0.106466  0.189023  0.109774  0.124436  0.080827   \n",
       "590              SEA POINT  0.320217  0.002353  0.014928  0.024826  0.059711   \n",
       "500              PARKLANDS  0.056927  0.027617  0.211136  0.141648  0.124454   \n",
       "132  CAPE TOWN CITY CENTRE  0.404068  0.024116  0.031477  0.069734  0.059370   \n",
       "\n",
       "       1-1.5M    1.5-2M    2-2.5M    2.5-3M  ...    30-35M    35-40M  \\\n",
       "521  0.011070  0.008162  0.005770  0.004456  ...  0.000094  0.000094   \n",
       "644  0.231504  0.095714  0.026165  0.014662  ...  0.000376  0.000150   \n",
       "590  0.121045  0.118205  0.088350  0.066039  ...  0.000568  0.000406   \n",
       "500  0.304143  0.089087  0.024321  0.009176  ...  0.000356  0.000356   \n",
       "132  0.122518  0.092688  0.049298  0.029249  ...  0.001840  0.001743   \n",
       "\n",
       "       40-45M    45-50M    50-60M    60-70M    70-80M    80-90M   90-100M  \\\n",
       "521  0.000281  0.000000  0.000141  0.000000  0.000000  0.000000  0.000000   \n",
       "644  0.000000  0.000150  0.000150  0.000075  0.000000  0.000075  0.000075   \n",
       "590  0.000162  0.000000  0.000406  0.000325  0.000081  0.000243  0.000081   \n",
       "500  0.000356  0.000178  0.000089  0.000178  0.000000  0.000000  0.000089   \n",
       "132  0.001259  0.001162  0.001840  0.000775  0.001065  0.001162  0.000194   \n",
       "\n",
       "     100-200M  \n",
       "521  0.000141  \n",
       "644  0.000150  \n",
       "590  0.000325  \n",
       "500  0.000089  \n",
       "132  0.003777  \n",
       "\n",
       "[5 rows x 33 columns]"
      ]
     },
     "execution_count": 88,
     "metadata": {},
     "output_type": "execute_result"
    }
   ],
   "source": [
    "df_norm = df.drop(['Suburbs', 'total'], axis=1)\n",
    "df_norm = df_norm.div(df_norm.sum(axis=1), axis=0)\n",
    "df_norm['Suburbs'] = df['Suburbs']\n",
    "columns = df_norm.columns.tolist()\n",
    "columns = columns[-1:] + columns[:-1]\n",
    "df_norm = df_norm[columns]\n",
    "df_norm.head()"
   ]
  },
  {
   "cell_type": "code",
   "execution_count": 89,
   "metadata": {},
   "outputs": [],
   "source": [
    "from sklearn.preprocessing import StandardScaler\n",
    "from sklearn.cluster import KMeans"
   ]
  },
  {
   "cell_type": "code",
   "execution_count": 90,
   "metadata": {},
   "outputs": [
    {
     "name": "stderr",
     "output_type": "stream",
     "text": [
      "/home/jupyterlab/conda/envs/python/lib/python3.6/site-packages/sklearn/utils/validation.py:595: DataConversionWarning: Data with input dtype object was converted to float64 by StandardScaler.\n",
      "  warnings.warn(msg, DataConversionWarning)\n",
      "/home/jupyterlab/conda/envs/python/lib/python3.6/site-packages/sklearn/utils/validation.py:595: DataConversionWarning: Data with input dtype object was converted to float64 by StandardScaler.\n",
      "  warnings.warn(msg, DataConversionWarning)\n"
     ]
    }
   ],
   "source": [
    "X = df_norm.values[:,1:]\n",
    "cluster_dataset = StandardScaler().fit_transform(X)"
   ]
  },
  {
   "cell_type": "markdown",
   "metadata": {},
   "source": [
    "Following some analysis (including the elbow method, which we ultimately rejected) we decided to split the suburbs into four clusters."
   ]
  },
  {
   "cell_type": "code",
   "execution_count": 91,
   "metadata": {},
   "outputs": [
    {
     "data": {
      "text/plain": [
       "KMeans(algorithm='auto', copy_x=True, init='k-means++', max_iter=300,\n",
       "    n_clusters=4, n_init=25, n_jobs=None, precompute_distances='auto',\n",
       "    random_state=None, tol=0.0001, verbose=0)"
      ]
     },
     "execution_count": 91,
     "metadata": {},
     "output_type": "execute_result"
    }
   ],
   "source": [
    "k_means = KMeans(init=\"k-means++\", n_clusters=4, n_init=25)\n",
    "k_means.fit(cluster_dataset)"
   ]
  },
  {
   "cell_type": "code",
   "execution_count": 92,
   "metadata": {},
   "outputs": [],
   "source": [
    "df['cluster'] = k_means.labels_"
   ]
  },
  {
   "cell_type": "code",
   "execution_count": 98,
   "metadata": {},
   "outputs": [],
   "source": [
    "df = df[['Suburbs', 'total', 'cluster']]"
   ]
  },
  {
   "cell_type": "code",
   "execution_count": 99,
   "metadata": {},
   "outputs": [
    {
     "data": {
      "text/html": [
       "<div>\n",
       "<style scoped>\n",
       "    .dataframe tbody tr th:only-of-type {\n",
       "        vertical-align: middle;\n",
       "    }\n",
       "\n",
       "    .dataframe tbody tr th {\n",
       "        vertical-align: top;\n",
       "    }\n",
       "\n",
       "    .dataframe thead th {\n",
       "        text-align: right;\n",
       "    }\n",
       "</style>\n",
       "<table border=\"1\" class=\"dataframe\">\n",
       "  <thead>\n",
       "    <tr style=\"text-align: right;\">\n",
       "      <th></th>\n",
       "      <th>Suburbs</th>\n",
       "      <th>total</th>\n",
       "      <th>cluster</th>\n",
       "    </tr>\n",
       "  </thead>\n",
       "  <tbody>\n",
       "    <tr>\n",
       "      <th>521</th>\n",
       "      <td>PHILIPPI</td>\n",
       "      <td>21318.0</td>\n",
       "      <td>0</td>\n",
       "    </tr>\n",
       "    <tr>\n",
       "      <th>644</th>\n",
       "      <td>STRAND</td>\n",
       "      <td>13300.0</td>\n",
       "      <td>0</td>\n",
       "    </tr>\n",
       "    <tr>\n",
       "      <th>590</th>\n",
       "      <td>SEA POINT</td>\n",
       "      <td>12326.0</td>\n",
       "      <td>1</td>\n",
       "    </tr>\n",
       "    <tr>\n",
       "      <th>500</th>\n",
       "      <td>PARKLANDS</td>\n",
       "      <td>11225.0</td>\n",
       "      <td>0</td>\n",
       "    </tr>\n",
       "    <tr>\n",
       "      <th>132</th>\n",
       "      <td>CAPE TOWN CITY CENTRE</td>\n",
       "      <td>10325.0</td>\n",
       "      <td>1</td>\n",
       "    </tr>\n",
       "  </tbody>\n",
       "</table>\n",
       "</div>"
      ],
      "text/plain": [
       "                   Suburbs    total  cluster\n",
       "521               PHILIPPI  21318.0        0\n",
       "644                 STRAND  13300.0        0\n",
       "590              SEA POINT  12326.0        1\n",
       "500              PARKLANDS  11225.0        0\n",
       "132  CAPE TOWN CITY CENTRE  10325.0        1"
      ]
     },
     "execution_count": 99,
     "metadata": {},
     "output_type": "execute_result"
    }
   ],
   "source": [
    "df.head()"
   ]
  },
  {
   "cell_type": "code",
   "execution_count": 100,
   "metadata": {},
   "outputs": [
    {
     "data": {
      "text/html": [
       "<div>\n",
       "<style scoped>\n",
       "    .dataframe tbody tr th:only-of-type {\n",
       "        vertical-align: middle;\n",
       "    }\n",
       "\n",
       "    .dataframe tbody tr th {\n",
       "        vertical-align: top;\n",
       "    }\n",
       "\n",
       "    .dataframe thead th {\n",
       "        text-align: right;\n",
       "    }\n",
       "</style>\n",
       "<table border=\"1\" class=\"dataframe\">\n",
       "  <thead>\n",
       "    <tr style=\"text-align: right;\">\n",
       "      <th></th>\n",
       "      <th>Suburbs</th>\n",
       "      <th>total</th>\n",
       "    </tr>\n",
       "    <tr>\n",
       "      <th>cluster</th>\n",
       "      <th></th>\n",
       "      <th></th>\n",
       "    </tr>\n",
       "  </thead>\n",
       "  <tbody>\n",
       "    <tr>\n",
       "      <th>0</th>\n",
       "      <td>344</td>\n",
       "      <td>344</td>\n",
       "    </tr>\n",
       "    <tr>\n",
       "      <th>1</th>\n",
       "      <td>80</td>\n",
       "      <td>80</td>\n",
       "    </tr>\n",
       "    <tr>\n",
       "      <th>2</th>\n",
       "      <td>16</td>\n",
       "      <td>16</td>\n",
       "    </tr>\n",
       "    <tr>\n",
       "      <th>3</th>\n",
       "      <td>4</td>\n",
       "      <td>4</td>\n",
       "    </tr>\n",
       "  </tbody>\n",
       "</table>\n",
       "</div>"
      ],
      "text/plain": [
       "         Suburbs  total\n",
       "cluster                \n",
       "0            344    344\n",
       "1             80     80\n",
       "2             16     16\n",
       "3              4      4"
      ]
     },
     "execution_count": 100,
     "metadata": {},
     "output_type": "execute_result"
    }
   ],
   "source": [
    "df.groupby(['cluster']).count()"
   ]
  },
  {
   "cell_type": "markdown",
   "metadata": {},
   "source": [
    "The table above should the 4 clusters and the number of suburbs in each.  \n",
    "Looking at the count, it would be logical to assume that the wealthiest people live in suburbs in cluster 4."
   ]
  },
  {
   "cell_type": "markdown",
   "metadata": {},
   "source": [
    "Let's enrich the data frame with the count of bus stops in each suburb."
   ]
  },
  {
   "cell_type": "code",
   "execution_count": 102,
   "metadata": {},
   "outputs": [],
   "source": [
    "df = pd.merge(df, df_bus_stops_stats, left_on='Suburbs', right_on='suburb', how='left')"
   ]
  },
  {
   "cell_type": "code",
   "execution_count": 104,
   "metadata": {},
   "outputs": [],
   "source": [
    "df.drop('suburb', axis=1, inplace=True)"
   ]
  },
  {
   "cell_type": "code",
   "execution_count": 108,
   "metadata": {},
   "outputs": [],
   "source": [
    "df.fillna(0, inplace=True)"
   ]
  },
  {
   "cell_type": "code",
   "execution_count": 109,
   "metadata": {},
   "outputs": [
    {
     "data": {
      "text/html": [
       "<div>\n",
       "<style scoped>\n",
       "    .dataframe tbody tr th:only-of-type {\n",
       "        vertical-align: middle;\n",
       "    }\n",
       "\n",
       "    .dataframe tbody tr th {\n",
       "        vertical-align: top;\n",
       "    }\n",
       "\n",
       "    .dataframe thead th {\n",
       "        text-align: right;\n",
       "    }\n",
       "</style>\n",
       "<table border=\"1\" class=\"dataframe\">\n",
       "  <thead>\n",
       "    <tr style=\"text-align: right;\">\n",
       "      <th></th>\n",
       "      <th>Suburbs</th>\n",
       "      <th>total</th>\n",
       "      <th>cluster</th>\n",
       "      <th>count</th>\n",
       "    </tr>\n",
       "  </thead>\n",
       "  <tbody>\n",
       "    <tr>\n",
       "      <th>0</th>\n",
       "      <td>PHILIPPI</td>\n",
       "      <td>21318.0</td>\n",
       "      <td>0</td>\n",
       "      <td>0.0</td>\n",
       "    </tr>\n",
       "    <tr>\n",
       "      <th>1</th>\n",
       "      <td>STRAND</td>\n",
       "      <td>13300.0</td>\n",
       "      <td>0</td>\n",
       "      <td>0.0</td>\n",
       "    </tr>\n",
       "    <tr>\n",
       "      <th>2</th>\n",
       "      <td>SEA POINT</td>\n",
       "      <td>12326.0</td>\n",
       "      <td>1</td>\n",
       "      <td>20.0</td>\n",
       "    </tr>\n",
       "    <tr>\n",
       "      <th>3</th>\n",
       "      <td>PARKLANDS</td>\n",
       "      <td>11225.0</td>\n",
       "      <td>0</td>\n",
       "      <td>21.0</td>\n",
       "    </tr>\n",
       "    <tr>\n",
       "      <th>4</th>\n",
       "      <td>CAPE TOWN CITY CENTRE</td>\n",
       "      <td>10325.0</td>\n",
       "      <td>1</td>\n",
       "      <td>21.0</td>\n",
       "    </tr>\n",
       "  </tbody>\n",
       "</table>\n",
       "</div>"
      ],
      "text/plain": [
       "                 Suburbs    total  cluster  count\n",
       "0               PHILIPPI  21318.0        0    0.0\n",
       "1                 STRAND  13300.0        0    0.0\n",
       "2              SEA POINT  12326.0        1   20.0\n",
       "3              PARKLANDS  11225.0        0   21.0\n",
       "4  CAPE TOWN CITY CENTRE  10325.0        1   21.0"
      ]
     },
     "execution_count": 109,
     "metadata": {},
     "output_type": "execute_result"
    }
   ],
   "source": [
    "df.head()"
   ]
  },
  {
   "cell_type": "markdown",
   "metadata": {},
   "source": [
    "Let's sort the dataset by cluster and then by the number of properties in descending order:"
   ]
  },
  {
   "cell_type": "code",
   "execution_count": 116,
   "metadata": {},
   "outputs": [],
   "source": [
    "df.sort_values(by=['cluster', 'total'], ascending=[True, False], inplace=True)"
   ]
  },
  {
   "cell_type": "code",
   "execution_count": 124,
   "metadata": {},
   "outputs": [],
   "source": [
    "df.to_csv('df_suburbs_clustered.csv', index=False)"
   ]
  },
  {
   "cell_type": "markdown",
   "metadata": {},
   "source": [
    "## Results"
   ]
  },
  {
   "cell_type": "markdown",
   "metadata": {},
   "source": [
    "We can now visualise this final dataset:"
   ]
  },
  {
   "cell_type": "code",
   "execution_count": 115,
   "metadata": {},
   "outputs": [],
   "source": [
    "m = folium.Map(location=[lat_ct, lon_ct], zoom_start=10)\n",
    "folium.TileLayer('cartodbpositron').add_to(m)\n",
    "#folium.GeoJson('Official_Suburbs.geojson', name='geojson').add_to(m)\n",
    "m.choropleth(\n",
    "    geo_data='Official_Suburbs.geojson',\n",
    "    name='choropleth',\n",
    "    data=df,\n",
    "    columns=['Suburbs', 'cluster'],\n",
    "    key_on='feature.properties.OFC_SBRB_NAME',\n",
    "    fill_color='Blues',\n",
    "    fill_opacity=0.7,\n",
    "    line_opacity=0.2,\n",
    "    legend_name='Suburb Wealth'\n",
    ")\n",
    "for i, b in df_bus_stops.iterrows():\n",
    "    folium.Circle([b['lat'], b['lon']], radius=5, fill=False, color='red').add_to(m)\n",
    "m.save('Map 6 - Suburb Wealth.html')"
   ]
  },
  {
   "cell_type": "markdown",
   "metadata": {},
   "source": [
    "Let's now display the top 10 (by the number of properties) suburbs in cluster 0:"
   ]
  },
  {
   "cell_type": "code",
   "execution_count": 120,
   "metadata": {},
   "outputs": [
    {
     "data": {
      "text/html": [
       "<div>\n",
       "<style scoped>\n",
       "    .dataframe tbody tr th:only-of-type {\n",
       "        vertical-align: middle;\n",
       "    }\n",
       "\n",
       "    .dataframe tbody tr th {\n",
       "        vertical-align: top;\n",
       "    }\n",
       "\n",
       "    .dataframe thead th {\n",
       "        text-align: right;\n",
       "    }\n",
       "</style>\n",
       "<table border=\"1\" class=\"dataframe\">\n",
       "  <thead>\n",
       "    <tr style=\"text-align: right;\">\n",
       "      <th></th>\n",
       "      <th>Suburbs</th>\n",
       "      <th>total</th>\n",
       "      <th>cluster</th>\n",
       "      <th>count</th>\n",
       "    </tr>\n",
       "  </thead>\n",
       "  <tbody>\n",
       "    <tr>\n",
       "      <th>0</th>\n",
       "      <td>PHILIPPI</td>\n",
       "      <td>21318.0</td>\n",
       "      <td>0</td>\n",
       "      <td>0.0</td>\n",
       "    </tr>\n",
       "    <tr>\n",
       "      <th>1</th>\n",
       "      <td>STRAND</td>\n",
       "      <td>13300.0</td>\n",
       "      <td>0</td>\n",
       "      <td>0.0</td>\n",
       "    </tr>\n",
       "    <tr>\n",
       "      <th>3</th>\n",
       "      <td>PARKLANDS</td>\n",
       "      <td>11225.0</td>\n",
       "      <td>0</td>\n",
       "      <td>21.0</td>\n",
       "    </tr>\n",
       "    <tr>\n",
       "      <th>5</th>\n",
       "      <td>TABLE VIEW</td>\n",
       "      <td>10025.0</td>\n",
       "      <td>0</td>\n",
       "      <td>14.0</td>\n",
       "    </tr>\n",
       "    <tr>\n",
       "      <th>7</th>\n",
       "      <td>UMRHABULO TRIANGLE</td>\n",
       "      <td>9288.0</td>\n",
       "      <td>0</td>\n",
       "      <td>2.0</td>\n",
       "    </tr>\n",
       "    <tr>\n",
       "      <th>8</th>\n",
       "      <td>GUGULETU</td>\n",
       "      <td>8932.0</td>\n",
       "      <td>0</td>\n",
       "      <td>0.0</td>\n",
       "    </tr>\n",
       "    <tr>\n",
       "      <th>9</th>\n",
       "      <td>WALLACEDENE</td>\n",
       "      <td>8131.0</td>\n",
       "      <td>0</td>\n",
       "      <td>0.0</td>\n",
       "    </tr>\n",
       "    <tr>\n",
       "      <th>10</th>\n",
       "      <td>TAFELSIG</td>\n",
       "      <td>7994.0</td>\n",
       "      <td>0</td>\n",
       "      <td>19.0</td>\n",
       "    </tr>\n",
       "    <tr>\n",
       "      <th>11</th>\n",
       "      <td>MFULENI</td>\n",
       "      <td>7603.0</td>\n",
       "      <td>0</td>\n",
       "      <td>0.0</td>\n",
       "    </tr>\n",
       "    <tr>\n",
       "      <th>13</th>\n",
       "      <td>NYANGA</td>\n",
       "      <td>7056.0</td>\n",
       "      <td>0</td>\n",
       "      <td>0.0</td>\n",
       "    </tr>\n",
       "  </tbody>\n",
       "</table>\n",
       "</div>"
      ],
      "text/plain": [
       "               Suburbs    total  cluster  count\n",
       "0             PHILIPPI  21318.0        0    0.0\n",
       "1               STRAND  13300.0        0    0.0\n",
       "3            PARKLANDS  11225.0        0   21.0\n",
       "5           TABLE VIEW  10025.0        0   14.0\n",
       "7   UMRHABULO TRIANGLE   9288.0        0    2.0\n",
       "8             GUGULETU   8932.0        0    0.0\n",
       "9          WALLACEDENE   8131.0        0    0.0\n",
       "10            TAFELSIG   7994.0        0   19.0\n",
       "11             MFULENI   7603.0        0    0.0\n",
       "13              NYANGA   7056.0        0    0.0"
      ]
     },
     "execution_count": 120,
     "metadata": {},
     "output_type": "execute_result"
    }
   ],
   "source": [
    "df[df['cluster'] == 0].head(10)"
   ]
  },
  {
   "cell_type": "markdown",
   "metadata": {},
   "source": [
    "Top 10 in cluster 1:"
   ]
  },
  {
   "cell_type": "code",
   "execution_count": 121,
   "metadata": {},
   "outputs": [
    {
     "data": {
      "text/html": [
       "<div>\n",
       "<style scoped>\n",
       "    .dataframe tbody tr th:only-of-type {\n",
       "        vertical-align: middle;\n",
       "    }\n",
       "\n",
       "    .dataframe tbody tr th {\n",
       "        vertical-align: top;\n",
       "    }\n",
       "\n",
       "    .dataframe thead th {\n",
       "        text-align: right;\n",
       "    }\n",
       "</style>\n",
       "<table border=\"1\" class=\"dataframe\">\n",
       "  <thead>\n",
       "    <tr style=\"text-align: right;\">\n",
       "      <th></th>\n",
       "      <th>Suburbs</th>\n",
       "      <th>total</th>\n",
       "      <th>cluster</th>\n",
       "      <th>count</th>\n",
       "    </tr>\n",
       "  </thead>\n",
       "  <tbody>\n",
       "    <tr>\n",
       "      <th>2</th>\n",
       "      <td>SEA POINT</td>\n",
       "      <td>12326.0</td>\n",
       "      <td>1</td>\n",
       "      <td>20.0</td>\n",
       "    </tr>\n",
       "    <tr>\n",
       "      <th>4</th>\n",
       "      <td>CAPE TOWN CITY CENTRE</td>\n",
       "      <td>10325.0</td>\n",
       "      <td>1</td>\n",
       "      <td>21.0</td>\n",
       "    </tr>\n",
       "    <tr>\n",
       "      <th>6</th>\n",
       "      <td>CLAREMONT</td>\n",
       "      <td>9695.0</td>\n",
       "      <td>1</td>\n",
       "      <td>0.0</td>\n",
       "    </tr>\n",
       "    <tr>\n",
       "      <th>12</th>\n",
       "      <td>RONDEBOSCH</td>\n",
       "      <td>7056.0</td>\n",
       "      <td>1</td>\n",
       "      <td>0.0</td>\n",
       "    </tr>\n",
       "    <tr>\n",
       "      <th>15</th>\n",
       "      <td>HOUT BAY</td>\n",
       "      <td>6963.0</td>\n",
       "      <td>1</td>\n",
       "      <td>19.0</td>\n",
       "    </tr>\n",
       "    <tr>\n",
       "      <th>28</th>\n",
       "      <td>GARDENS</td>\n",
       "      <td>5348.0</td>\n",
       "      <td>1</td>\n",
       "      <td>16.0</td>\n",
       "    </tr>\n",
       "    <tr>\n",
       "      <th>29</th>\n",
       "      <td>FISH HOEK</td>\n",
       "      <td>5302.0</td>\n",
       "      <td>1</td>\n",
       "      <td>0.0</td>\n",
       "    </tr>\n",
       "    <tr>\n",
       "      <th>32</th>\n",
       "      <td>DURBANVILLE</td>\n",
       "      <td>4947.0</td>\n",
       "      <td>1</td>\n",
       "      <td>0.0</td>\n",
       "    </tr>\n",
       "    <tr>\n",
       "      <th>38</th>\n",
       "      <td>PINELANDS</td>\n",
       "      <td>4738.0</td>\n",
       "      <td>1</td>\n",
       "      <td>0.0</td>\n",
       "    </tr>\n",
       "    <tr>\n",
       "      <th>41</th>\n",
       "      <td>GREEN POINT</td>\n",
       "      <td>4451.0</td>\n",
       "      <td>1</td>\n",
       "      <td>14.0</td>\n",
       "    </tr>\n",
       "  </tbody>\n",
       "</table>\n",
       "</div>"
      ],
      "text/plain": [
       "                  Suburbs    total  cluster  count\n",
       "2               SEA POINT  12326.0        1   20.0\n",
       "4   CAPE TOWN CITY CENTRE  10325.0        1   21.0\n",
       "6               CLAREMONT   9695.0        1    0.0\n",
       "12             RONDEBOSCH   7056.0        1    0.0\n",
       "15               HOUT BAY   6963.0        1   19.0\n",
       "28                GARDENS   5348.0        1   16.0\n",
       "29              FISH HOEK   5302.0        1    0.0\n",
       "32            DURBANVILLE   4947.0        1    0.0\n",
       "38              PINELANDS   4738.0        1    0.0\n",
       "41            GREEN POINT   4451.0        1   14.0"
      ]
     },
     "execution_count": 121,
     "metadata": {},
     "output_type": "execute_result"
    }
   ],
   "source": [
    "df[df['cluster'] == 1].head(10)"
   ]
  },
  {
   "cell_type": "markdown",
   "metadata": {},
   "source": [
    "Top 10 in cluster 2:"
   ]
  },
  {
   "cell_type": "code",
   "execution_count": 122,
   "metadata": {},
   "outputs": [
    {
     "data": {
      "text/html": [
       "<div>\n",
       "<style scoped>\n",
       "    .dataframe tbody tr th:only-of-type {\n",
       "        vertical-align: middle;\n",
       "    }\n",
       "\n",
       "    .dataframe tbody tr th {\n",
       "        vertical-align: top;\n",
       "    }\n",
       "\n",
       "    .dataframe thead th {\n",
       "        text-align: right;\n",
       "    }\n",
       "</style>\n",
       "<table border=\"1\" class=\"dataframe\">\n",
       "  <thead>\n",
       "    <tr style=\"text-align: right;\">\n",
       "      <th></th>\n",
       "      <th>Suburbs</th>\n",
       "      <th>total</th>\n",
       "      <th>cluster</th>\n",
       "      <th>count</th>\n",
       "    </tr>\n",
       "  </thead>\n",
       "  <tbody>\n",
       "    <tr>\n",
       "      <th>46</th>\n",
       "      <td>CONSTANTIA</td>\n",
       "      <td>4327.0</td>\n",
       "      <td>2</td>\n",
       "      <td>0.0</td>\n",
       "    </tr>\n",
       "    <tr>\n",
       "      <th>67</th>\n",
       "      <td>NEWLANDS</td>\n",
       "      <td>3168.0</td>\n",
       "      <td>2</td>\n",
       "      <td>0.0</td>\n",
       "    </tr>\n",
       "    <tr>\n",
       "      <th>74</th>\n",
       "      <td>CAMPS BAY / BAKOVEN</td>\n",
       "      <td>2933.0</td>\n",
       "      <td>2</td>\n",
       "      <td>20.0</td>\n",
       "    </tr>\n",
       "    <tr>\n",
       "      <th>105</th>\n",
       "      <td>NOORDHOEK</td>\n",
       "      <td>2158.0</td>\n",
       "      <td>2</td>\n",
       "      <td>0.0</td>\n",
       "    </tr>\n",
       "    <tr>\n",
       "      <th>133</th>\n",
       "      <td>WESTLAKE</td>\n",
       "      <td>1724.0</td>\n",
       "      <td>2</td>\n",
       "      <td>0.0</td>\n",
       "    </tr>\n",
       "    <tr>\n",
       "      <th>205</th>\n",
       "      <td>FRESNAYE</td>\n",
       "      <td>1083.0</td>\n",
       "      <td>2</td>\n",
       "      <td>2.0</td>\n",
       "    </tr>\n",
       "    <tr>\n",
       "      <th>217</th>\n",
       "      <td>WELGEMOED</td>\n",
       "      <td>957.0</td>\n",
       "      <td>2</td>\n",
       "      <td>0.0</td>\n",
       "    </tr>\n",
       "    <tr>\n",
       "      <th>237</th>\n",
       "      <td>SUNSET BEACH</td>\n",
       "      <td>876.0</td>\n",
       "      <td>2</td>\n",
       "      <td>1.0</td>\n",
       "    </tr>\n",
       "    <tr>\n",
       "      <th>292</th>\n",
       "      <td>BARONETCY ESTATE</td>\n",
       "      <td>662.0</td>\n",
       "      <td>2</td>\n",
       "      <td>0.0</td>\n",
       "    </tr>\n",
       "    <tr>\n",
       "      <th>312</th>\n",
       "      <td>WELGEDACHT</td>\n",
       "      <td>591.0</td>\n",
       "      <td>2</td>\n",
       "      <td>0.0</td>\n",
       "    </tr>\n",
       "  </tbody>\n",
       "</table>\n",
       "</div>"
      ],
      "text/plain": [
       "                 Suburbs   total  cluster  count\n",
       "46            CONSTANTIA  4327.0        2    0.0\n",
       "67              NEWLANDS  3168.0        2    0.0\n",
       "74   CAMPS BAY / BAKOVEN  2933.0        2   20.0\n",
       "105            NOORDHOEK  2158.0        2    0.0\n",
       "133             WESTLAKE  1724.0        2    0.0\n",
       "205             FRESNAYE  1083.0        2    2.0\n",
       "217            WELGEMOED   957.0        2    0.0\n",
       "237         SUNSET BEACH   876.0        2    1.0\n",
       "292     BARONETCY ESTATE   662.0        2    0.0\n",
       "312           WELGEDACHT   591.0        2    0.0"
      ]
     },
     "execution_count": 122,
     "metadata": {},
     "output_type": "execute_result"
    }
   ],
   "source": [
    "df[df['cluster'] == 2].head(10)"
   ]
  },
  {
   "cell_type": "markdown",
   "metadata": {},
   "source": [
    "Top 10 in cluster 3. Oops, there are only 4 suburbs:"
   ]
  },
  {
   "cell_type": "code",
   "execution_count": 123,
   "metadata": {},
   "outputs": [
    {
     "data": {
      "text/html": [
       "<div>\n",
       "<style scoped>\n",
       "    .dataframe tbody tr th:only-of-type {\n",
       "        vertical-align: middle;\n",
       "    }\n",
       "\n",
       "    .dataframe tbody tr th {\n",
       "        vertical-align: top;\n",
       "    }\n",
       "\n",
       "    .dataframe thead th {\n",
       "        text-align: right;\n",
       "    }\n",
       "</style>\n",
       "<table border=\"1\" class=\"dataframe\">\n",
       "  <thead>\n",
       "    <tr style=\"text-align: right;\">\n",
       "      <th></th>\n",
       "      <th>Suburbs</th>\n",
       "      <th>total</th>\n",
       "      <th>cluster</th>\n",
       "      <th>count</th>\n",
       "    </tr>\n",
       "  </thead>\n",
       "  <tbody>\n",
       "    <tr>\n",
       "      <th>246</th>\n",
       "      <td>BANTRY BAY</td>\n",
       "      <td>822.0</td>\n",
       "      <td>3</td>\n",
       "      <td>2.0</td>\n",
       "    </tr>\n",
       "    <tr>\n",
       "      <th>284</th>\n",
       "      <td>CLIFTON</td>\n",
       "      <td>683.0</td>\n",
       "      <td>3</td>\n",
       "      <td>5.0</td>\n",
       "    </tr>\n",
       "    <tr>\n",
       "      <th>318</th>\n",
       "      <td>BISHOPSCOURT</td>\n",
       "      <td>580.0</td>\n",
       "      <td>3</td>\n",
       "      <td>0.0</td>\n",
       "    </tr>\n",
       "    <tr>\n",
       "      <th>423</th>\n",
       "      <td>LLANDUDNO</td>\n",
       "      <td>331.0</td>\n",
       "      <td>3</td>\n",
       "      <td>0.0</td>\n",
       "    </tr>\n",
       "  </tbody>\n",
       "</table>\n",
       "</div>"
      ],
      "text/plain": [
       "          Suburbs  total  cluster  count\n",
       "246    BANTRY BAY  822.0        3    2.0\n",
       "284       CLIFTON  683.0        3    5.0\n",
       "318  BISHOPSCOURT  580.0        3    0.0\n",
       "423     LLANDUDNO  331.0        3    0.0"
      ]
     },
     "execution_count": 123,
     "metadata": {},
     "output_type": "execute_result"
    }
   ],
   "source": [
    "df[df['cluster'] == 3].head(10)"
   ]
  },
  {
   "cell_type": "markdown",
   "metadata": {},
   "source": [
    "## Discussion"
   ]
  },
  {
   "cell_type": "markdown",
   "metadata": {},
   "source": [
    "Let's begin with the richest suburbs of cluster 3. There are only 4: **Bantry Bay**, **Clifton**, **Bishopscourt** and **Llandudno**. Two of them already have a MyCiTi service, the other two do not. These are traditionally the most expensive areas of Cape Town to live in, with a limited number of properties. A reliable bus service is highly unlikely to attract these suburbs' residents, and even if it was, the impact on congestion relief would be insignificant given the number of properties and people in these suburbs. We therefore  recommend no changes to the MyCiTi service as far as this cluster is concerned."
   ]
  },
  {
   "cell_type": "markdown",
   "metadata": {},
   "source": [
    "Moving on to cluster 2, we see that the most populous suburbs in this cluster are **Constantia** and **Newlands**. These are relatively prosperous areas where highly skilled individuals choose to live, and we believe that at least some 90% of them are likely to own a car. It is exactly these neighbourhoods that need a MyCiTi service, along with a large-scale publicity campaign explaining why switching to safe and reliable public transport is good for the overall environment."
   ]
  },
  {
   "cell_type": "markdown",
   "metadata": {},
   "source": [
    "Looking at cluster 1, **Claremont** and **Rondebosch** are the two most populous suburbs that still have no MyCiTi service. Most people living here are also likely to own a car, so we would recommend the same strategy as for Constantia and Newlands in cluster 2. Noting that Claremont and Rondebosch lie next to Newlands, it may be possible to serve all these suburbs with the same bus route. **Fish Hoek** is the next most populous suburb with no MyCiTi service, however we note that it does have a working train service to Cape Town's centre, therefore it is questionable whether a new MyCiTi line would be the best answer - perhaps it would be wiser to invest into the rail infrastructure instead."
   ]
  },
  {
   "cell_type": "markdown",
   "metadata": {},
   "source": [
    "Finally, cluster 0 is a somewhat different story. Many of the people in these neighbourhoods do not own a car and are having to rely on whatever public transport is available, be it shared minibus taxis or the rush-hour-only Golden Arrow buses. **Strand** is probably an exception as it does have a working rail service, albeit it takes almost 2 hours to reach the centre of Cape Town, which would be unacceptable for daily commute. Similar to Fish Hoek above, we would recommend investing into the rail infrastructure instead of creating a MyCiTi link to Strand. The rest of the suburbs, especially **Philippi** and **Guguletu**, seem to be in desperate need of a reliable bus service, and this is where the Transport and Urban Development Authority of Cape Town should focus its attention. This is, however, more a question of equal opportunities rather than traffic congestion relief."
   ]
  },
  {
   "cell_type": "markdown",
   "metadata": {},
   "source": [
    "## Conclusion"
   ]
  },
  {
   "cell_type": "markdown",
   "metadata": {},
   "source": [
    "In this analysis we have looked at the existing MyCiTi bus network, attempted to group Cape Town's suburbs by wealth in order to understand where people are more likely to use a private car, and offered two suggestions as to how to grow the network:\n",
    "1. To alleviate traffic congestion, we recommend establishing a new, safe and reliable MyCiTi service from Cape Town's centre to the suburbs of Constantia, Newlands, Claremont and Rondebosch. Given the existing culture and lifestyle of these suburbs, some effort would be required to motivate people to use buses instead of cars - this may include advertisements or other incentives.\n",
    "2. We also recommend to link Philippi and Guguletu to the city centre, not so much for the sake of traffic congestion, but to provide reliable public transport to very populous suburbs that need it most."
   ]
  },
  {
   "cell_type": "markdown",
   "metadata": {},
   "source": [
    "## References"
   ]
  },
  {
   "cell_type": "markdown",
   "metadata": {},
   "source": [
    "[1] https://www.tct.gov.za/en/transport/transport-network  \n",
    "[2] https://www.news24.com/SouthAfrica/News/multi-pronged-approach-needed-for-traffic-congestion-city-of-cape-town-20190227  \n",
    "[3] https://www.whereismytransport.com/case-studies/integrating-the-informal-mapping-cape-towns-minibus-taxi-network  \n",
    "[4] https://tdacontenthubstore.blob.core.windows.net/resources/756c7e76-1ab5-45a9-9e97-ecee4e150e79.pdf  \n",
    "[5] https://odp-cctegis.opendata.arcgis.com  \n",
    "[6] https://www.myciti.org.za/en/routes-stops/route-stop-station-map"
   ]
  }
 ],
 "metadata": {
  "kernelspec": {
   "display_name": "Python",
   "language": "python",
   "name": "conda-env-python-py"
  },
  "language_info": {
   "codemirror_mode": {
    "name": "ipython",
    "version": 3
   },
   "file_extension": ".py",
   "mimetype": "text/x-python",
   "name": "python",
   "nbconvert_exporter": "python",
   "pygments_lexer": "ipython3",
   "version": "3.6.7"
  }
 },
 "nbformat": 4,
 "nbformat_minor": 4
}
